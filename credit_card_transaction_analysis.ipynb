{
 "cells": [
  {
   "cell_type": "code",
   "execution_count": 1,
   "metadata": {},
   "outputs": [],
   "source": [
    "import pandas as pd\n",
    "import numpy as np\n",
    "import datetime\n",
    "import matplotlib.pyplot as plt\n",
    "import seaborn as sns\n",
    "from matplotlib import rcParams\n",
    "rcParams.update({'figure.autolayout': True})  \n",
    "pd.set_option('display.max_columns', 10)\n",
    "pd.set_option('display.width', 350)"
   ]
  },
  {
   "cell_type": "markdown",
   "metadata": {},
   "source": [
    "# Import Data"
   ]
  },
  {
   "cell_type": "code",
   "execution_count": 2,
   "metadata": {},
   "outputs": [],
   "source": [
    "#read the two files\n",
    "card=pd.read_csv(\"./dataset/credit_card/cc_info.csv\")"
   ]
  },
  {
   "cell_type": "code",
   "execution_count": 3,
   "metadata": {},
   "outputs": [
    {
     "data": {
      "text/html": [
       "<div>\n",
       "<style scoped>\n",
       "    .dataframe tbody tr th:only-of-type {\n",
       "        vertical-align: middle;\n",
       "    }\n",
       "\n",
       "    .dataframe tbody tr th {\n",
       "        vertical-align: top;\n",
       "    }\n",
       "\n",
       "    .dataframe thead th {\n",
       "        text-align: right;\n",
       "    }\n",
       "</style>\n",
       "<table border=\"1\" class=\"dataframe\">\n",
       "  <thead>\n",
       "    <tr style=\"text-align: right;\">\n",
       "      <th></th>\n",
       "      <th>credit_card</th>\n",
       "      <th>city</th>\n",
       "      <th>state</th>\n",
       "      <th>zipcode</th>\n",
       "      <th>credit_card_limit</th>\n",
       "    </tr>\n",
       "  </thead>\n",
       "  <tbody>\n",
       "    <tr>\n",
       "      <th>0</th>\n",
       "      <td>1280981422329509</td>\n",
       "      <td>Dallas</td>\n",
       "      <td>PA</td>\n",
       "      <td>18612</td>\n",
       "      <td>6000</td>\n",
       "    </tr>\n",
       "    <tr>\n",
       "      <th>1</th>\n",
       "      <td>9737219864179988</td>\n",
       "      <td>Houston</td>\n",
       "      <td>PA</td>\n",
       "      <td>15342</td>\n",
       "      <td>16000</td>\n",
       "    </tr>\n",
       "    <tr>\n",
       "      <th>2</th>\n",
       "      <td>4749889059323202</td>\n",
       "      <td>Auburn</td>\n",
       "      <td>MA</td>\n",
       "      <td>1501</td>\n",
       "      <td>14000</td>\n",
       "    </tr>\n",
       "    <tr>\n",
       "      <th>3</th>\n",
       "      <td>9591503562024072</td>\n",
       "      <td>Orlando</td>\n",
       "      <td>WV</td>\n",
       "      <td>26412</td>\n",
       "      <td>18000</td>\n",
       "    </tr>\n",
       "    <tr>\n",
       "      <th>4</th>\n",
       "      <td>2095640259001271</td>\n",
       "      <td>New York</td>\n",
       "      <td>NY</td>\n",
       "      <td>10001</td>\n",
       "      <td>20000</td>\n",
       "    </tr>\n",
       "  </tbody>\n",
       "</table>\n",
       "</div>"
      ],
      "text/plain": [
       "        credit_card      city state  zipcode  credit_card_limit\n",
       "0  1280981422329509    Dallas    PA    18612               6000\n",
       "1  9737219864179988   Houston    PA    15342              16000\n",
       "2  4749889059323202    Auburn    MA     1501              14000\n",
       "3  9591503562024072   Orlando    WV    26412              18000\n",
       "4  2095640259001271  New York    NY    10001              20000"
      ]
     },
     "execution_count": 3,
     "metadata": {},
     "output_type": "execute_result"
    }
   ],
   "source": [
    "card.head()"
   ]
  },
  {
   "cell_type": "code",
   "execution_count": 4,
   "metadata": {},
   "outputs": [
    {
     "data": {
      "text/plain": [
       "(984, 5)"
      ]
     },
     "execution_count": 4,
     "metadata": {},
     "output_type": "execute_result"
    }
   ],
   "source": [
    "card.shape"
   ]
  },
  {
   "cell_type": "code",
   "execution_count": 5,
   "metadata": {},
   "outputs": [],
   "source": [
    "transaction=pd.read_csv(\"./dataset/credit_card/transactions.csv\", parse_dates=['date'])"
   ]
  },
  {
   "cell_type": "code",
   "execution_count": 6,
   "metadata": {},
   "outputs": [
    {
     "data": {
      "text/html": [
       "<div>\n",
       "<style scoped>\n",
       "    .dataframe tbody tr th:only-of-type {\n",
       "        vertical-align: middle;\n",
       "    }\n",
       "\n",
       "    .dataframe tbody tr th {\n",
       "        vertical-align: top;\n",
       "    }\n",
       "\n",
       "    .dataframe thead th {\n",
       "        text-align: right;\n",
       "    }\n",
       "</style>\n",
       "<table border=\"1\" class=\"dataframe\">\n",
       "  <thead>\n",
       "    <tr style=\"text-align: right;\">\n",
       "      <th></th>\n",
       "      <th>credit_card</th>\n",
       "      <th>date</th>\n",
       "      <th>transaction_dollar_amount</th>\n",
       "      <th>Long</th>\n",
       "      <th>Lat</th>\n",
       "    </tr>\n",
       "  </thead>\n",
       "  <tbody>\n",
       "    <tr>\n",
       "      <th>0</th>\n",
       "      <td>1003715054175576</td>\n",
       "      <td>2015-09-11 00:32:40</td>\n",
       "      <td>43.78</td>\n",
       "      <td>-80.174132</td>\n",
       "      <td>40.267370</td>\n",
       "    </tr>\n",
       "    <tr>\n",
       "      <th>1</th>\n",
       "      <td>1003715054175576</td>\n",
       "      <td>2015-10-24 22:23:08</td>\n",
       "      <td>103.15</td>\n",
       "      <td>-80.194240</td>\n",
       "      <td>40.180114</td>\n",
       "    </tr>\n",
       "    <tr>\n",
       "      <th>2</th>\n",
       "      <td>1003715054175576</td>\n",
       "      <td>2015-10-26 18:19:36</td>\n",
       "      <td>48.55</td>\n",
       "      <td>-80.211033</td>\n",
       "      <td>40.313004</td>\n",
       "    </tr>\n",
       "    <tr>\n",
       "      <th>3</th>\n",
       "      <td>1003715054175576</td>\n",
       "      <td>2015-10-22 19:41:10</td>\n",
       "      <td>136.18</td>\n",
       "      <td>-80.174138</td>\n",
       "      <td>40.290895</td>\n",
       "    </tr>\n",
       "    <tr>\n",
       "      <th>4</th>\n",
       "      <td>1003715054175576</td>\n",
       "      <td>2015-10-26 20:08:22</td>\n",
       "      <td>71.82</td>\n",
       "      <td>-80.238720</td>\n",
       "      <td>40.166719</td>\n",
       "    </tr>\n",
       "  </tbody>\n",
       "</table>\n",
       "</div>"
      ],
      "text/plain": [
       "        credit_card                date  transaction_dollar_amount       Long        Lat\n",
       "0  1003715054175576 2015-09-11 00:32:40                      43.78 -80.174132  40.267370\n",
       "1  1003715054175576 2015-10-24 22:23:08                     103.15 -80.194240  40.180114\n",
       "2  1003715054175576 2015-10-26 18:19:36                      48.55 -80.211033  40.313004\n",
       "3  1003715054175576 2015-10-22 19:41:10                     136.18 -80.174138  40.290895\n",
       "4  1003715054175576 2015-10-26 20:08:22                      71.82 -80.238720  40.166719"
      ]
     },
     "execution_count": 6,
     "metadata": {},
     "output_type": "execute_result"
    }
   ],
   "source": [
    "transaction.head()"
   ]
  },
  {
   "cell_type": "code",
   "execution_count": 11,
   "metadata": {},
   "outputs": [
    {
     "data": {
      "text/plain": [
       "(294588, 5)"
      ]
     },
     "execution_count": 11,
     "metadata": {},
     "output_type": "execute_result"
    }
   ],
   "source": [
    "transaction.shape"
   ]
  },
  {
   "cell_type": "markdown",
   "metadata": {},
   "source": [
    "data=pd.merge(transaction, card, how='left')"
   ]
  },
  {
   "cell_type": "code",
   "execution_count": 9,
   "metadata": {},
   "outputs": [
    {
     "data": {
      "text/html": [
       "<div>\n",
       "<style scoped>\n",
       "    .dataframe tbody tr th:only-of-type {\n",
       "        vertical-align: middle;\n",
       "    }\n",
       "\n",
       "    .dataframe tbody tr th {\n",
       "        vertical-align: top;\n",
       "    }\n",
       "\n",
       "    .dataframe thead th {\n",
       "        text-align: right;\n",
       "    }\n",
       "</style>\n",
       "<table border=\"1\" class=\"dataframe\">\n",
       "  <thead>\n",
       "    <tr style=\"text-align: right;\">\n",
       "      <th></th>\n",
       "      <th>credit_card</th>\n",
       "      <th>date</th>\n",
       "      <th>transaction_dollar_amount</th>\n",
       "      <th>Long</th>\n",
       "      <th>Lat</th>\n",
       "      <th>city</th>\n",
       "      <th>state</th>\n",
       "      <th>zipcode</th>\n",
       "      <th>credit_card_limit</th>\n",
       "    </tr>\n",
       "  </thead>\n",
       "  <tbody>\n",
       "    <tr>\n",
       "      <th>0</th>\n",
       "      <td>1003715054175576</td>\n",
       "      <td>2015-09-11 00:32:40</td>\n",
       "      <td>43.78</td>\n",
       "      <td>-80.174132</td>\n",
       "      <td>40.267370</td>\n",
       "      <td>Houston</td>\n",
       "      <td>PA</td>\n",
       "      <td>15342</td>\n",
       "      <td>20000</td>\n",
       "    </tr>\n",
       "    <tr>\n",
       "      <th>1</th>\n",
       "      <td>1003715054175576</td>\n",
       "      <td>2015-10-24 22:23:08</td>\n",
       "      <td>103.15</td>\n",
       "      <td>-80.194240</td>\n",
       "      <td>40.180114</td>\n",
       "      <td>Houston</td>\n",
       "      <td>PA</td>\n",
       "      <td>15342</td>\n",
       "      <td>20000</td>\n",
       "    </tr>\n",
       "    <tr>\n",
       "      <th>2</th>\n",
       "      <td>1003715054175576</td>\n",
       "      <td>2015-10-26 18:19:36</td>\n",
       "      <td>48.55</td>\n",
       "      <td>-80.211033</td>\n",
       "      <td>40.313004</td>\n",
       "      <td>Houston</td>\n",
       "      <td>PA</td>\n",
       "      <td>15342</td>\n",
       "      <td>20000</td>\n",
       "    </tr>\n",
       "    <tr>\n",
       "      <th>3</th>\n",
       "      <td>1003715054175576</td>\n",
       "      <td>2015-10-22 19:41:10</td>\n",
       "      <td>136.18</td>\n",
       "      <td>-80.174138</td>\n",
       "      <td>40.290895</td>\n",
       "      <td>Houston</td>\n",
       "      <td>PA</td>\n",
       "      <td>15342</td>\n",
       "      <td>20000</td>\n",
       "    </tr>\n",
       "    <tr>\n",
       "      <th>4</th>\n",
       "      <td>1003715054175576</td>\n",
       "      <td>2015-10-26 20:08:22</td>\n",
       "      <td>71.82</td>\n",
       "      <td>-80.238720</td>\n",
       "      <td>40.166719</td>\n",
       "      <td>Houston</td>\n",
       "      <td>PA</td>\n",
       "      <td>15342</td>\n",
       "      <td>20000</td>\n",
       "    </tr>\n",
       "  </tbody>\n",
       "</table>\n",
       "</div>"
      ],
      "text/plain": [
       "        credit_card                date  transaction_dollar_amount       Long        Lat     city state  zipcode  credit_card_limit\n",
       "0  1003715054175576 2015-09-11 00:32:40                      43.78 -80.174132  40.267370  Houston    PA    15342              20000\n",
       "1  1003715054175576 2015-10-24 22:23:08                     103.15 -80.194240  40.180114  Houston    PA    15342              20000\n",
       "2  1003715054175576 2015-10-26 18:19:36                      48.55 -80.211033  40.313004  Houston    PA    15342              20000\n",
       "3  1003715054175576 2015-10-22 19:41:10                     136.18 -80.174138  40.290895  Houston    PA    15342              20000\n",
       "4  1003715054175576 2015-10-26 20:08:22                      71.82 -80.238720  40.166719  Houston    PA    15342              20000"
      ]
     },
     "execution_count": 9,
     "metadata": {},
     "output_type": "execute_result"
    }
   ],
   "source": [
    "data.head()"
   ]
  },
  {
   "cell_type": "code",
   "execution_count": 10,
   "metadata": {},
   "outputs": [
    {
     "name": "stdout",
     "output_type": "stream",
     "text": [
      "<class 'pandas.core.frame.DataFrame'>\n",
      "Int64Index: 294588 entries, 0 to 294587\n",
      "Data columns (total 9 columns):\n",
      " #   Column                     Non-Null Count   Dtype         \n",
      "---  ------                     --------------   -----         \n",
      " 0   credit_card                294588 non-null  int64         \n",
      " 1   date                       294588 non-null  datetime64[ns]\n",
      " 2   transaction_dollar_amount  294588 non-null  float64       \n",
      " 3   Long                       294588 non-null  float64       \n",
      " 4   Lat                        294588 non-null  float64       \n",
      " 5   city                       294588 non-null  object        \n",
      " 6   state                      294588 non-null  object        \n",
      " 7   zipcode                    294588 non-null  int64         \n",
      " 8   credit_card_limit          294588 non-null  int64         \n",
      "dtypes: datetime64[ns](1), float64(3), int64(3), object(2)\n",
      "memory usage: 22.5+ MB\n"
     ]
    }
   ],
   "source": [
    "data.info()"
   ]
  },
  {
   "cell_type": "markdown",
   "metadata": {},
   "source": [
    "Q: Identify users that never went above the monthly credit card limit\n",
    "\n",
    "We will check how much each user has spent in total per calendar month and then compare to their monthly limit. This way we will identify users who went above the limit at least once. Finally we will pick all users not in this list."
   ]
  },
  {
   "cell_type": "code",
   "execution_count": 13,
   "metadata": {},
   "outputs": [],
   "source": [
    "#extract month from date\n",
    "data['month']=data['date'].dt.month\n",
    "  \n",
    "#find total spent per month per user\n",
    "users_above_limit = data.groupby(['credit_card', 'month']).apply(\n",
    "                    lambda x: pd.Series({\n",
    "                             # credit card limit\n",
    "                            'credit_card_limit': x['credit_card_limit'].max(),\n",
    "                             # total spent per month\n",
    "                            'total_spent': x['transaction_dollar_amount'].sum()})\n",
    ").reset_index()"
   ]
  },
  {
   "cell_type": "code",
   "execution_count": 14,
   "metadata": {},
   "outputs": [
    {
     "data": {
      "text/html": [
       "<div>\n",
       "<style scoped>\n",
       "    .dataframe tbody tr th:only-of-type {\n",
       "        vertical-align: middle;\n",
       "    }\n",
       "\n",
       "    .dataframe tbody tr th {\n",
       "        vertical-align: top;\n",
       "    }\n",
       "\n",
       "    .dataframe thead th {\n",
       "        text-align: right;\n",
       "    }\n",
       "</style>\n",
       "<table border=\"1\" class=\"dataframe\">\n",
       "  <thead>\n",
       "    <tr style=\"text-align: right;\">\n",
       "      <th></th>\n",
       "      <th>credit_card</th>\n",
       "      <th>month</th>\n",
       "      <th>credit_card_limit</th>\n",
       "      <th>total_spent</th>\n",
       "    </tr>\n",
       "  </thead>\n",
       "  <tbody>\n",
       "    <tr>\n",
       "      <th>0</th>\n",
       "      <td>1003715054175576</td>\n",
       "      <td>7</td>\n",
       "      <td>20000.0</td>\n",
       "      <td>162.56</td>\n",
       "    </tr>\n",
       "    <tr>\n",
       "      <th>1</th>\n",
       "      <td>1003715054175576</td>\n",
       "      <td>8</td>\n",
       "      <td>20000.0</td>\n",
       "      <td>8441.51</td>\n",
       "    </tr>\n",
       "    <tr>\n",
       "      <th>2</th>\n",
       "      <td>1003715054175576</td>\n",
       "      <td>9</td>\n",
       "      <td>20000.0</td>\n",
       "      <td>11281.56</td>\n",
       "    </tr>\n",
       "    <tr>\n",
       "      <th>3</th>\n",
       "      <td>1003715054175576</td>\n",
       "      <td>10</td>\n",
       "      <td>20000.0</td>\n",
       "      <td>8954.21</td>\n",
       "    </tr>\n",
       "    <tr>\n",
       "      <th>4</th>\n",
       "      <td>1013870087888817</td>\n",
       "      <td>7</td>\n",
       "      <td>15000.0</td>\n",
       "      <td>281.43</td>\n",
       "    </tr>\n",
       "  </tbody>\n",
       "</table>\n",
       "</div>"
      ],
      "text/plain": [
       "        credit_card  month  credit_card_limit  total_spent\n",
       "0  1003715054175576      7            20000.0       162.56\n",
       "1  1003715054175576      8            20000.0      8441.51\n",
       "2  1003715054175576      9            20000.0     11281.56\n",
       "3  1003715054175576     10            20000.0      8954.21\n",
       "4  1013870087888817      7            15000.0       281.43"
      ]
     },
     "execution_count": 14,
     "metadata": {},
     "output_type": "execute_result"
    }
   ],
   "source": [
    "users_above_limit.head()"
   ]
  },
  {
   "cell_type": "code",
   "execution_count": 19,
   "metadata": {},
   "outputs": [
    {
     "data": {
      "text/plain": [
       "(3797, 4)"
      ]
     },
     "execution_count": 19,
     "metadata": {},
     "output_type": "execute_result"
    }
   ],
   "source": [
    "users_above_limit.shape"
   ]
  },
  {
   "cell_type": "code",
   "execution_count": 17,
   "metadata": {},
   "outputs": [],
   "source": [
    "test = data.groupby(['credit_card', 'month']).apply(\n",
    "                    lambda x: pd.Series({\n",
    "                             # credit card limit\n",
    "                            'credit_card_limit': x['credit_card_limit'].min(),\n",
    "                             # total spent per month\n",
    "                            'total_spent': x['transaction_dollar_amount'].sum()})\n",
    ").reset_index()"
   ]
  },
  {
   "cell_type": "code",
   "execution_count": 18,
   "metadata": {},
   "outputs": [
    {
     "data": {
      "text/html": [
       "<div>\n",
       "<style scoped>\n",
       "    .dataframe tbody tr th:only-of-type {\n",
       "        vertical-align: middle;\n",
       "    }\n",
       "\n",
       "    .dataframe tbody tr th {\n",
       "        vertical-align: top;\n",
       "    }\n",
       "\n",
       "    .dataframe thead th {\n",
       "        text-align: right;\n",
       "    }\n",
       "</style>\n",
       "<table border=\"1\" class=\"dataframe\">\n",
       "  <thead>\n",
       "    <tr style=\"text-align: right;\">\n",
       "      <th></th>\n",
       "      <th>credit_card</th>\n",
       "      <th>month</th>\n",
       "      <th>credit_card_limit</th>\n",
       "      <th>total_spent</th>\n",
       "    </tr>\n",
       "  </thead>\n",
       "  <tbody>\n",
       "    <tr>\n",
       "      <th>0</th>\n",
       "      <td>1003715054175576</td>\n",
       "      <td>7</td>\n",
       "      <td>20000.0</td>\n",
       "      <td>162.56</td>\n",
       "    </tr>\n",
       "    <tr>\n",
       "      <th>1</th>\n",
       "      <td>1003715054175576</td>\n",
       "      <td>8</td>\n",
       "      <td>20000.0</td>\n",
       "      <td>8441.51</td>\n",
       "    </tr>\n",
       "    <tr>\n",
       "      <th>2</th>\n",
       "      <td>1003715054175576</td>\n",
       "      <td>9</td>\n",
       "      <td>20000.0</td>\n",
       "      <td>11281.56</td>\n",
       "    </tr>\n",
       "    <tr>\n",
       "      <th>3</th>\n",
       "      <td>1003715054175576</td>\n",
       "      <td>10</td>\n",
       "      <td>20000.0</td>\n",
       "      <td>8954.21</td>\n",
       "    </tr>\n",
       "    <tr>\n",
       "      <th>4</th>\n",
       "      <td>1013870087888817</td>\n",
       "      <td>7</td>\n",
       "      <td>15000.0</td>\n",
       "      <td>281.43</td>\n",
       "    </tr>\n",
       "  </tbody>\n",
       "</table>\n",
       "</div>"
      ],
      "text/plain": [
       "        credit_card  month  credit_card_limit  total_spent\n",
       "0  1003715054175576      7            20000.0       162.56\n",
       "1  1003715054175576      8            20000.0      8441.51\n",
       "2  1003715054175576      9            20000.0     11281.56\n",
       "3  1003715054175576     10            20000.0      8954.21\n",
       "4  1013870087888817      7            15000.0       281.43"
      ]
     },
     "execution_count": 18,
     "metadata": {},
     "output_type": "execute_result"
    }
   ],
   "source": [
    "test.head()"
   ]
  },
  {
   "cell_type": "code",
   "execution_count": 20,
   "metadata": {},
   "outputs": [],
   "source": [
    "users_above_limit = users_above_limit.query('total_spent>credit_card_limit')['credit_card'].unique()"
   ]
  },
  {
   "cell_type": "code",
   "execution_count": 21,
   "metadata": {},
   "outputs": [
    {
     "name": "stdout",
     "output_type": "stream",
     "text": [
      "122\n"
     ]
    }
   ],
   "source": [
    "print(len(users_above_limit))"
   ]
  },
  {
   "cell_type": "code",
   "execution_count": 22,
   "metadata": {},
   "outputs": [],
   "source": [
    "users_no_limit = card['credit_card'][~card['credit_card'].isin(users_above_limit)]"
   ]
  },
  {
   "cell_type": "code",
   "execution_count": 23,
   "metadata": {},
   "outputs": [
    {
     "name": "stdout",
     "output_type": "stream",
     "text": [
      "862 users never went above the limit\n"
     ]
    }
   ],
   "source": [
    "print(len(users_no_limit), \"users never went above the limit\")"
   ]
  },
  {
   "cell_type": "markdown",
   "metadata": {},
   "source": [
    "Q: Build a function that for each day, returns a list of users who went above their credit card monthly limit on that day\n",
    "\n",
    "We assume here that at the beginning of the new month, user total money spent gets reset to zero."
   ]
  },
  {
   "cell_type": "code",
   "execution_count": 24,
   "metadata": {},
   "outputs": [],
   "source": [
    "def alert_function (data_input, day_input, month_input, year_input):\n",
    "      \n",
    "   #extract day from timestamp\n",
    "   data_input['date_truncated'] = data_input['date'].dt.date\n",
    "   #add alert day to the dataset\n",
    "   data_input['date_alerts'] = datetime.datetime(year_input, month_input, day_input)\n",
    "      \n",
    "   #subset dataset only keeping prior transactions in the same month\n",
    "   tmp = data_input.query('date_truncated<=date_alerts.dt.date & month==date_alerts.dt.month').sort_values('date')\n",
    "     \n",
    "   #get cumsum of transaction amount by user\n",
    "   tmp['total_spent'] = tmp.groupby('credit_card')['transaction_dollar_amount'].cumsum()\n",
    "   #get previous day value of cumsum\n",
    "   tmp['total_spent_previous_value'] = tmp.groupby('credit_card')['total_spent'].shift(1)\n",
    "   #only keep rows when previous value was below the limit and current one is above\n",
    "   tmp = tmp.query('total_spent>=credit_card_limit & total_spent_previous_value<credit_card_limit')\n",
    "   #and date is the alert date\n",
    "   tmp = tmp.query('date_truncated==date_alerts.dt.date') \n",
    "     \n",
    "   return(tmp[['credit_card', 'total_spent', 'total_spent_previous_value', 'credit_card_limit', 'date_alerts']])     "
   ]
  },
  {
   "cell_type": "code",
   "execution_count": 25,
   "metadata": {},
   "outputs": [
    {
     "name": "stdout",
     "output_type": "stream",
     "text": [
      "             credit_card  total_spent  total_spent_previous_value  credit_card_limit date_alerts\n",
      "230955  7850942767136368      4061.39                     3996.38               4000  2015-08-16\n",
      "58222   2850146878241916      4005.39                     3988.08               4000  2015-08-16\n"
     ]
    }
   ],
   "source": [
    "print(alert_function(data, 16, 8, 2015))"
   ]
  },
  {
   "cell_type": "markdown",
   "metadata": {},
   "source": [
    "Q: Build a model that returns all transactions that seem unusual and are worth investigating further\n",
    "\n",
    "We will take the following approach:\n",
    "\n",
    "Feature engineering. We will create the following new variables:\n",
    "\n",
    "Geographical distance between transaction location and user home\n",
    "Geographical distance between consecutive transactions\n",
    "Time difference between consecutive transactions\n",
    "\n",
    "Our model will use the variables above + transaction_amount. We will normalize all variables by user. That way we will identify anomalies based on a given user typical behaviour\n",
    "\n",
    "We will cluster transactions, look into the cluster characteristics, and identify the “anomaly clusters”. All transactions falling into one of those clusters will be labeled as anomaly"
   ]
  },
  {
   "cell_type": "code",
   "execution_count": 27,
   "metadata": {},
   "outputs": [
    {
     "name": "stderr",
     "output_type": "stream",
     "text": [
      "Status code 401 from http://dev.virtualearth.net/REST/v1/Locations: ERROR - 401 Client Error: Unauthorized for url: http://dev.virtualearth.net/REST/v1/Locations?q=Houston%2CPA%2C15342&o=json&inclnb=1&key=MY_BING_API_KEY&maxResults=1\n"
     ]
    },
    {
     "name": "stdout",
     "output_type": "stream",
     "text": [
      "We will need to call the API 124 times\n"
     ]
    },
    {
     "ename": "TypeError",
     "evalue": "'NoneType' object is not subscriptable",
     "output_type": "error",
     "traceback": [
      "\u001b[0;31m---------------------------------------------------------------------------\u001b[0m",
      "\u001b[0;31mTypeError\u001b[0m                                 Traceback (most recent call last)",
      "\u001b[0;32m<ipython-input-27-5949b9870d45>\u001b[0m in \u001b[0;36m<module>\u001b[0;34m\u001b[0m\n\u001b[1;32m     17\u001b[0m \u001b[0;32mwhile\u001b[0m \u001b[0mi\u001b[0m\u001b[0;34m<\u001b[0m\u001b[0mlen\u001b[0m\u001b[0;34m(\u001b[0m\u001b[0mcity_api\u001b[0m\u001b[0;34m)\u001b[0m\u001b[0;34m:\u001b[0m\u001b[0;34m\u001b[0m\u001b[0;34m\u001b[0m\u001b[0m\n\u001b[1;32m     18\u001b[0m     \u001b[0mgeocode_add\u001b[0m \u001b[0;34m=\u001b[0m \u001b[0mgeocoder\u001b[0m\u001b[0;34m.\u001b[0m\u001b[0mbing\u001b[0m\u001b[0;34m(\u001b[0m\u001b[0mcity_api\u001b[0m\u001b[0;34m[\u001b[0m\u001b[0;34m'string'\u001b[0m\u001b[0;34m]\u001b[0m\u001b[0;34m[\u001b[0m\u001b[0mi\u001b[0m\u001b[0;34m]\u001b[0m\u001b[0;34m,\u001b[0m \u001b[0mkey\u001b[0m\u001b[0;34m=\u001b[0m\u001b[0;34m'MY_BING_API_KEY'\u001b[0m\u001b[0;34m)\u001b[0m\u001b[0;34m.\u001b[0m\u001b[0mlatlng\u001b[0m\u001b[0;34m\u001b[0m\u001b[0;34m\u001b[0m\u001b[0m\n\u001b[0;32m---> 19\u001b[0;31m     \u001b[0mcity_api\u001b[0m\u001b[0;34m.\u001b[0m\u001b[0mat\u001b[0m\u001b[0;34m[\u001b[0m\u001b[0mi\u001b[0m\u001b[0;34m,\u001b[0m \u001b[0;34m'city_lat'\u001b[0m\u001b[0;34m]\u001b[0m  \u001b[0;34m=\u001b[0m \u001b[0mgeocode_add\u001b[0m\u001b[0;34m[\u001b[0m\u001b[0;36m0\u001b[0m\u001b[0;34m]\u001b[0m\u001b[0;34m\u001b[0m\u001b[0;34m\u001b[0m\u001b[0m\n\u001b[0m\u001b[1;32m     20\u001b[0m     \u001b[0mcity_api\u001b[0m\u001b[0;34m.\u001b[0m\u001b[0mat\u001b[0m\u001b[0;34m[\u001b[0m\u001b[0mi\u001b[0m\u001b[0;34m,\u001b[0m \u001b[0;34m'city_long'\u001b[0m\u001b[0;34m]\u001b[0m \u001b[0;34m=\u001b[0m \u001b[0mgeocode_add\u001b[0m\u001b[0;34m[\u001b[0m\u001b[0;36m1\u001b[0m\u001b[0;34m]\u001b[0m\u001b[0;34m\u001b[0m\u001b[0;34m\u001b[0m\u001b[0m\n\u001b[1;32m     21\u001b[0m     \u001b[0mi\u001b[0m\u001b[0;34m+=\u001b[0m\u001b[0;36m1\u001b[0m\u001b[0;34m\u001b[0m\u001b[0;34m\u001b[0m\u001b[0m\n",
      "\u001b[0;31mTypeError\u001b[0m: 'NoneType' object is not subscriptable"
     ]
    }
   ],
   "source": [
    "import geocoder\n",
    "import geopy.distance\n",
    "#Feature Engineering\n",
    "  \n",
    "#1) To get distance from user home, we need to get lat/long of cities. We are using Bing API here, easier/faster to get an API key than google\n",
    "#get unique queries for which we need lat/long\n",
    "data['api_string'] = data['city'] + ',' + data['state'] + ',' + data['zipcode'].map(str)\n",
    "string = data['api_string'].unique()\n",
    "  \n",
    "print(\"We will need to call the API\", len(string), \"times\")\n",
    "#dataset where we store the results\n",
    "city_api = pd.DataFrame({'string': string,\n",
    "                            'city_long' : np.nan,\n",
    "                            'city_lat'  : np.nan})\n"
   ]
  },
  {
   "cell_type": "code",
   "execution_count": 36,
   "metadata": {},
   "outputs": [
    {
     "data": {
      "text/html": [
       "<div>\n",
       "<style scoped>\n",
       "    .dataframe tbody tr th:only-of-type {\n",
       "        vertical-align: middle;\n",
       "    }\n",
       "\n",
       "    .dataframe tbody tr th {\n",
       "        vertical-align: top;\n",
       "    }\n",
       "\n",
       "    .dataframe thead th {\n",
       "        text-align: right;\n",
       "    }\n",
       "</style>\n",
       "<table border=\"1\" class=\"dataframe\">\n",
       "  <thead>\n",
       "    <tr style=\"text-align: right;\">\n",
       "      <th></th>\n",
       "      <th>credit_card</th>\n",
       "      <th>date</th>\n",
       "      <th>transaction_dollar_amount</th>\n",
       "      <th>Long</th>\n",
       "      <th>Lat</th>\n",
       "      <th>...</th>\n",
       "      <th>credit_card_limit</th>\n",
       "      <th>month</th>\n",
       "      <th>date_truncated</th>\n",
       "      <th>date_alerts</th>\n",
       "      <th>api_string</th>\n",
       "    </tr>\n",
       "  </thead>\n",
       "  <tbody>\n",
       "    <tr>\n",
       "      <th>0</th>\n",
       "      <td>1003715054175576</td>\n",
       "      <td>2015-09-11 00:32:40</td>\n",
       "      <td>43.78</td>\n",
       "      <td>-80.174132</td>\n",
       "      <td>40.267370</td>\n",
       "      <td>...</td>\n",
       "      <td>20000</td>\n",
       "      <td>9</td>\n",
       "      <td>2015-09-11</td>\n",
       "      <td>2015-08-16</td>\n",
       "      <td>Houston,PA,15342</td>\n",
       "    </tr>\n",
       "    <tr>\n",
       "      <th>1</th>\n",
       "      <td>1003715054175576</td>\n",
       "      <td>2015-10-24 22:23:08</td>\n",
       "      <td>103.15</td>\n",
       "      <td>-80.194240</td>\n",
       "      <td>40.180114</td>\n",
       "      <td>...</td>\n",
       "      <td>20000</td>\n",
       "      <td>10</td>\n",
       "      <td>2015-10-24</td>\n",
       "      <td>2015-08-16</td>\n",
       "      <td>Houston,PA,15342</td>\n",
       "    </tr>\n",
       "    <tr>\n",
       "      <th>2</th>\n",
       "      <td>1003715054175576</td>\n",
       "      <td>2015-10-26 18:19:36</td>\n",
       "      <td>48.55</td>\n",
       "      <td>-80.211033</td>\n",
       "      <td>40.313004</td>\n",
       "      <td>...</td>\n",
       "      <td>20000</td>\n",
       "      <td>10</td>\n",
       "      <td>2015-10-26</td>\n",
       "      <td>2015-08-16</td>\n",
       "      <td>Houston,PA,15342</td>\n",
       "    </tr>\n",
       "    <tr>\n",
       "      <th>3</th>\n",
       "      <td>1003715054175576</td>\n",
       "      <td>2015-10-22 19:41:10</td>\n",
       "      <td>136.18</td>\n",
       "      <td>-80.174138</td>\n",
       "      <td>40.290895</td>\n",
       "      <td>...</td>\n",
       "      <td>20000</td>\n",
       "      <td>10</td>\n",
       "      <td>2015-10-22</td>\n",
       "      <td>2015-08-16</td>\n",
       "      <td>Houston,PA,15342</td>\n",
       "    </tr>\n",
       "    <tr>\n",
       "      <th>4</th>\n",
       "      <td>1003715054175576</td>\n",
       "      <td>2015-10-26 20:08:22</td>\n",
       "      <td>71.82</td>\n",
       "      <td>-80.238720</td>\n",
       "      <td>40.166719</td>\n",
       "      <td>...</td>\n",
       "      <td>20000</td>\n",
       "      <td>10</td>\n",
       "      <td>2015-10-26</td>\n",
       "      <td>2015-08-16</td>\n",
       "      <td>Houston,PA,15342</td>\n",
       "    </tr>\n",
       "  </tbody>\n",
       "</table>\n",
       "<p>5 rows × 13 columns</p>\n",
       "</div>"
      ],
      "text/plain": [
       "        credit_card                date  transaction_dollar_amount       Long        Lat  ... credit_card_limit month  date_truncated  date_alerts        api_string\n",
       "0  1003715054175576 2015-09-11 00:32:40                      43.78 -80.174132  40.267370  ...             20000     9      2015-09-11   2015-08-16  Houston,PA,15342\n",
       "1  1003715054175576 2015-10-24 22:23:08                     103.15 -80.194240  40.180114  ...             20000    10      2015-10-24   2015-08-16  Houston,PA,15342\n",
       "2  1003715054175576 2015-10-26 18:19:36                      48.55 -80.211033  40.313004  ...             20000    10      2015-10-26   2015-08-16  Houston,PA,15342\n",
       "3  1003715054175576 2015-10-22 19:41:10                     136.18 -80.174138  40.290895  ...             20000    10      2015-10-22   2015-08-16  Houston,PA,15342\n",
       "4  1003715054175576 2015-10-26 20:08:22                      71.82 -80.238720  40.166719  ...             20000    10      2015-10-26   2015-08-16  Houston,PA,15342\n",
       "\n",
       "[5 rows x 13 columns]"
      ]
     },
     "execution_count": 36,
     "metadata": {},
     "output_type": "execute_result"
    }
   ],
   "source": [
    "data.head()"
   ]
  },
  {
   "cell_type": "code",
   "execution_count": 39,
   "metadata": {},
   "outputs": [],
   "source": [
    "#pip install geopandas\n",
    "#pip install geopy"
   ]
  },
  {
   "cell_type": "code",
   "execution_count": 45,
   "metadata": {},
   "outputs": [],
   "source": [
    "import geopy"
   ]
  },
  {
   "cell_type": "code",
   "execution_count": 48,
   "metadata": {},
   "outputs": [
    {
     "data": {
      "text/plain": [
       "['AlgoliaPlaces',\n",
       " 'ArcGIS',\n",
       " 'AzureMaps',\n",
       " 'BANFrance',\n",
       " 'Baidu',\n",
       " 'BaiduV3',\n",
       " 'Bing',\n",
       " 'DataBC',\n",
       " 'GeoNames',\n",
       " 'GeocodeEarth',\n",
       " 'GeocodeFarm',\n",
       " 'Geolake',\n",
       " 'GoogleV3',\n",
       " 'Here',\n",
       " 'IGNFrance',\n",
       " 'LiveAddress',\n",
       " 'Location',\n",
       " 'MapBox',\n",
       " 'MapQuest',\n",
       " 'MapTiler',\n",
       " 'Nominatim',\n",
       " 'OpenCage',\n",
       " 'OpenMapQuest',\n",
       " 'Pelias',\n",
       " 'Photon',\n",
       " 'PickPoint',\n",
       " 'Point',\n",
       " 'Timezone',\n",
       " 'TomTom',\n",
       " 'What3Words',\n",
       " 'Yandex',\n",
       " '__builtins__',\n",
       " '__cached__',\n",
       " '__doc__',\n",
       " '__file__',\n",
       " '__loader__',\n",
       " '__name__',\n",
       " '__package__',\n",
       " '__path__',\n",
       " '__spec__',\n",
       " '__version__',\n",
       " 'compat',\n",
       " 'distance',\n",
       " 'exc',\n",
       " 'extra',\n",
       " 'format',\n",
       " 'geocoders',\n",
       " 'get_geocoder_for_service',\n",
       " 'location',\n",
       " 'point',\n",
       " 'timezone',\n",
       " 'units',\n",
       " 'util']"
      ]
     },
     "execution_count": 48,
     "metadata": {},
     "output_type": "execute_result"
    }
   ],
   "source": [
    "dir (geopy)"
   ]
  },
  {
   "cell_type": "code",
   "execution_count": 49,
   "metadata": {},
   "outputs": [],
   "source": [
    "from geopy.geocoders import Nominatim"
   ]
  },
  {
   "cell_type": "code",
   "execution_count": 50,
   "metadata": {},
   "outputs": [
    {
     "name": "stderr",
     "output_type": "stream",
     "text": [
      "//miniconda3/lib/python3.7/site-packages/ipykernel_launcher.py:1: DeprecationWarning: Using Nominatim with the default \"geopy/1.22.0\" `user_agent` is strongly discouraged, as it violates Nominatim's ToS https://operations.osmfoundation.org/policies/nominatim/ and may possibly cause 403 and 429 HTTP errors. Please specify a custom `user_agent` with `Nominatim(user_agent=\"my-application\")` or by overriding the default `user_agent`: `geopy.geocoders.options.default_user_agent = \"my-application\"`. In geopy 2.0 this will become an exception.\n",
      "  \"\"\"Entry point for launching an IPython kernel.\n"
     ]
    }
   ],
   "source": [
    "nom = Nominatim()"
   ]
  },
  {
   "cell_type": "code",
   "execution_count": 56,
   "metadata": {},
   "outputs": [
    {
     "data": {
      "text/plain": [
       "40.2464593"
      ]
     },
     "execution_count": 56,
     "metadata": {},
     "output_type": "execute_result"
    }
   ],
   "source": [
    "nom.geocode('Houston,PA,15342').latitude"
   ]
  },
  {
   "cell_type": "code",
   "execution_count": 64,
   "metadata": {},
   "outputs": [
    {
     "data": {
      "text/plain": [
       "-74.1055612"
      ]
     },
     "execution_count": 64,
     "metadata": {},
     "output_type": "execute_result"
    }
   ],
   "source": [
    "nom.geocode('Garfield,NJ,7026').longitude"
   ]
  },
  {
   "cell_type": "code",
   "execution_count": 52,
   "metadata": {},
   "outputs": [
    {
     "data": {
      "text/html": [
       "<div>\n",
       "<style scoped>\n",
       "    .dataframe tbody tr th:only-of-type {\n",
       "        vertical-align: middle;\n",
       "    }\n",
       "\n",
       "    .dataframe tbody tr th {\n",
       "        vertical-align: top;\n",
       "    }\n",
       "\n",
       "    .dataframe thead th {\n",
       "        text-align: right;\n",
       "    }\n",
       "</style>\n",
       "<table border=\"1\" class=\"dataframe\">\n",
       "  <thead>\n",
       "    <tr style=\"text-align: right;\">\n",
       "      <th></th>\n",
       "      <th>credit_card</th>\n",
       "      <th>date</th>\n",
       "      <th>transaction_dollar_amount</th>\n",
       "      <th>Long</th>\n",
       "      <th>Lat</th>\n",
       "      <th>...</th>\n",
       "      <th>credit_card_limit</th>\n",
       "      <th>month</th>\n",
       "      <th>date_truncated</th>\n",
       "      <th>date_alerts</th>\n",
       "      <th>api_string</th>\n",
       "    </tr>\n",
       "  </thead>\n",
       "  <tbody>\n",
       "    <tr>\n",
       "      <th>0</th>\n",
       "      <td>1003715054175576</td>\n",
       "      <td>2015-09-11 00:32:40</td>\n",
       "      <td>43.78</td>\n",
       "      <td>-80.174132</td>\n",
       "      <td>40.267370</td>\n",
       "      <td>...</td>\n",
       "      <td>20000</td>\n",
       "      <td>9</td>\n",
       "      <td>2015-09-11</td>\n",
       "      <td>2015-08-16</td>\n",
       "      <td>Houston,PA,15342</td>\n",
       "    </tr>\n",
       "    <tr>\n",
       "      <th>1</th>\n",
       "      <td>1003715054175576</td>\n",
       "      <td>2015-10-24 22:23:08</td>\n",
       "      <td>103.15</td>\n",
       "      <td>-80.194240</td>\n",
       "      <td>40.180114</td>\n",
       "      <td>...</td>\n",
       "      <td>20000</td>\n",
       "      <td>10</td>\n",
       "      <td>2015-10-24</td>\n",
       "      <td>2015-08-16</td>\n",
       "      <td>Houston,PA,15342</td>\n",
       "    </tr>\n",
       "    <tr>\n",
       "      <th>2</th>\n",
       "      <td>1003715054175576</td>\n",
       "      <td>2015-10-26 18:19:36</td>\n",
       "      <td>48.55</td>\n",
       "      <td>-80.211033</td>\n",
       "      <td>40.313004</td>\n",
       "      <td>...</td>\n",
       "      <td>20000</td>\n",
       "      <td>10</td>\n",
       "      <td>2015-10-26</td>\n",
       "      <td>2015-08-16</td>\n",
       "      <td>Houston,PA,15342</td>\n",
       "    </tr>\n",
       "    <tr>\n",
       "      <th>3</th>\n",
       "      <td>1003715054175576</td>\n",
       "      <td>2015-10-22 19:41:10</td>\n",
       "      <td>136.18</td>\n",
       "      <td>-80.174138</td>\n",
       "      <td>40.290895</td>\n",
       "      <td>...</td>\n",
       "      <td>20000</td>\n",
       "      <td>10</td>\n",
       "      <td>2015-10-22</td>\n",
       "      <td>2015-08-16</td>\n",
       "      <td>Houston,PA,15342</td>\n",
       "    </tr>\n",
       "    <tr>\n",
       "      <th>4</th>\n",
       "      <td>1003715054175576</td>\n",
       "      <td>2015-10-26 20:08:22</td>\n",
       "      <td>71.82</td>\n",
       "      <td>-80.238720</td>\n",
       "      <td>40.166719</td>\n",
       "      <td>...</td>\n",
       "      <td>20000</td>\n",
       "      <td>10</td>\n",
       "      <td>2015-10-26</td>\n",
       "      <td>2015-08-16</td>\n",
       "      <td>Houston,PA,15342</td>\n",
       "    </tr>\n",
       "  </tbody>\n",
       "</table>\n",
       "<p>5 rows × 13 columns</p>\n",
       "</div>"
      ],
      "text/plain": [
       "        credit_card                date  transaction_dollar_amount       Long        Lat  ... credit_card_limit month  date_truncated  date_alerts        api_string\n",
       "0  1003715054175576 2015-09-11 00:32:40                      43.78 -80.174132  40.267370  ...             20000     9      2015-09-11   2015-08-16  Houston,PA,15342\n",
       "1  1003715054175576 2015-10-24 22:23:08                     103.15 -80.194240  40.180114  ...             20000    10      2015-10-24   2015-08-16  Houston,PA,15342\n",
       "2  1003715054175576 2015-10-26 18:19:36                      48.55 -80.211033  40.313004  ...             20000    10      2015-10-26   2015-08-16  Houston,PA,15342\n",
       "3  1003715054175576 2015-10-22 19:41:10                     136.18 -80.174138  40.290895  ...             20000    10      2015-10-22   2015-08-16  Houston,PA,15342\n",
       "4  1003715054175576 2015-10-26 20:08:22                      71.82 -80.238720  40.166719  ...             20000    10      2015-10-26   2015-08-16  Houston,PA,15342\n",
       "\n",
       "[5 rows x 13 columns]"
      ]
     },
     "execution_count": 52,
     "metadata": {},
     "output_type": "execute_result"
    }
   ],
   "source": [
    "data.head()"
   ]
  },
  {
   "cell_type": "code",
   "execution_count": 54,
   "metadata": {},
   "outputs": [
    {
     "data": {
      "text/plain": [
       "(294588, 13)"
      ]
     },
     "execution_count": 54,
     "metadata": {},
     "output_type": "execute_result"
    }
   ],
   "source": [
    "data.shape"
   ]
  },
  {
   "cell_type": "code",
   "execution_count": 65,
   "metadata": {},
   "outputs": [],
   "source": [
    "i = 0\n",
    "while i<len(city_api):\n",
    "    geocode_add = nom.geocode(city_api['string'][i])\n",
    "    if geocode_add:\n",
    "        city_api.at[i, 'city_lat']  = geocode_add.latitude\n",
    "        city_api.at[i, 'city_long'] = geocode_add.longitude \n",
    "    \n",
    "    i+=1"
   ]
  },
  {
   "cell_type": "code",
   "execution_count": 60,
   "metadata": {},
   "outputs": [
    {
     "data": {
      "text/html": [
       "<div>\n",
       "<style scoped>\n",
       "    .dataframe tbody tr th:only-of-type {\n",
       "        vertical-align: middle;\n",
       "    }\n",
       "\n",
       "    .dataframe tbody tr th {\n",
       "        vertical-align: top;\n",
       "    }\n",
       "\n",
       "    .dataframe thead th {\n",
       "        text-align: right;\n",
       "    }\n",
       "</style>\n",
       "<table border=\"1\" class=\"dataframe\">\n",
       "  <thead>\n",
       "    <tr style=\"text-align: right;\">\n",
       "      <th></th>\n",
       "      <th>string</th>\n",
       "      <th>city_long</th>\n",
       "      <th>city_lat</th>\n",
       "    </tr>\n",
       "  </thead>\n",
       "  <tbody>\n",
       "    <tr>\n",
       "      <th>0</th>\n",
       "      <td>Houston,PA,15342</td>\n",
       "      <td>-80.211447</td>\n",
       "      <td>40.246459</td>\n",
       "    </tr>\n",
       "    <tr>\n",
       "      <th>1</th>\n",
       "      <td>Washington,NH,3280</td>\n",
       "      <td>-72.097092</td>\n",
       "      <td>43.176140</td>\n",
       "    </tr>\n",
       "    <tr>\n",
       "      <th>2</th>\n",
       "      <td>Charlotte,VT,5445</td>\n",
       "      <td>-73.254544</td>\n",
       "      <td>44.309699</td>\n",
       "    </tr>\n",
       "    <tr>\n",
       "      <th>3</th>\n",
       "      <td>Dallas,PA,18612</td>\n",
       "      <td>-75.963264</td>\n",
       "      <td>41.336170</td>\n",
       "    </tr>\n",
       "    <tr>\n",
       "      <th>4</th>\n",
       "      <td>Seattle,WA,98060</td>\n",
       "      <td>-122.330062</td>\n",
       "      <td>47.603832</td>\n",
       "    </tr>\n",
       "  </tbody>\n",
       "</table>\n",
       "</div>"
      ],
      "text/plain": [
       "               string   city_long   city_lat\n",
       "0    Houston,PA,15342  -80.211447  40.246459\n",
       "1  Washington,NH,3280  -72.097092  43.176140\n",
       "2   Charlotte,VT,5445  -73.254544  44.309699\n",
       "3     Dallas,PA,18612  -75.963264  41.336170\n",
       "4    Seattle,WA,98060 -122.330062  47.603832"
      ]
     },
     "execution_count": 60,
     "metadata": {},
     "output_type": "execute_result"
    }
   ],
   "source": [
    "city_api.head()"
   ]
  },
  {
   "cell_type": "code",
   "execution_count": 66,
   "metadata": {},
   "outputs": [
    {
     "data": {
      "text/html": [
       "<div>\n",
       "<style scoped>\n",
       "    .dataframe tbody tr th:only-of-type {\n",
       "        vertical-align: middle;\n",
       "    }\n",
       "\n",
       "    .dataframe tbody tr th {\n",
       "        vertical-align: top;\n",
       "    }\n",
       "\n",
       "    .dataframe thead th {\n",
       "        text-align: right;\n",
       "    }\n",
       "</style>\n",
       "<table border=\"1\" class=\"dataframe\">\n",
       "  <thead>\n",
       "    <tr style=\"text-align: right;\">\n",
       "      <th></th>\n",
       "      <th>string</th>\n",
       "      <th>city_long</th>\n",
       "      <th>city_lat</th>\n",
       "    </tr>\n",
       "  </thead>\n",
       "  <tbody>\n",
       "    <tr>\n",
       "      <th>0</th>\n",
       "      <td>Houston,PA,15342</td>\n",
       "      <td>-80.211447</td>\n",
       "      <td>40.246459</td>\n",
       "    </tr>\n",
       "    <tr>\n",
       "      <th>1</th>\n",
       "      <td>Washington,NH,3280</td>\n",
       "      <td>-72.097092</td>\n",
       "      <td>43.176140</td>\n",
       "    </tr>\n",
       "    <tr>\n",
       "      <th>2</th>\n",
       "      <td>Charlotte,VT,5445</td>\n",
       "      <td>-73.254544</td>\n",
       "      <td>44.309699</td>\n",
       "    </tr>\n",
       "    <tr>\n",
       "      <th>3</th>\n",
       "      <td>Dallas,PA,18612</td>\n",
       "      <td>-75.963264</td>\n",
       "      <td>41.336170</td>\n",
       "    </tr>\n",
       "    <tr>\n",
       "      <th>4</th>\n",
       "      <td>Seattle,WA,98060</td>\n",
       "      <td>-122.330062</td>\n",
       "      <td>47.603832</td>\n",
       "    </tr>\n",
       "    <tr>\n",
       "      <th>...</th>\n",
       "      <td>...</td>\n",
       "      <td>...</td>\n",
       "      <td>...</td>\n",
       "    </tr>\n",
       "    <tr>\n",
       "      <th>119</th>\n",
       "      <td>Minneapolis,NC,28652</td>\n",
       "      <td>-81.987349</td>\n",
       "      <td>36.099368</td>\n",
       "    </tr>\n",
       "    <tr>\n",
       "      <th>120</th>\n",
       "      <td>Garfield,NJ,7026</td>\n",
       "      <td>-74.105561</td>\n",
       "      <td>40.866697</td>\n",
       "    </tr>\n",
       "    <tr>\n",
       "      <th>121</th>\n",
       "      <td>Corpus Christi,TX,78401</td>\n",
       "      <td>-97.401413</td>\n",
       "      <td>27.747725</td>\n",
       "    </tr>\n",
       "    <tr>\n",
       "      <th>122</th>\n",
       "      <td>Gretna,VA,24557</td>\n",
       "      <td>-79.360234</td>\n",
       "      <td>36.952841</td>\n",
       "    </tr>\n",
       "    <tr>\n",
       "      <th>123</th>\n",
       "      <td>Staten Island,NY,10301</td>\n",
       "      <td>-74.149605</td>\n",
       "      <td>40.583456</td>\n",
       "    </tr>\n",
       "  </tbody>\n",
       "</table>\n",
       "<p>124 rows × 3 columns</p>\n",
       "</div>"
      ],
      "text/plain": [
       "                      string   city_long   city_lat\n",
       "0           Houston,PA,15342  -80.211447  40.246459\n",
       "1         Washington,NH,3280  -72.097092  43.176140\n",
       "2          Charlotte,VT,5445  -73.254544  44.309699\n",
       "3            Dallas,PA,18612  -75.963264  41.336170\n",
       "4           Seattle,WA,98060 -122.330062  47.603832\n",
       "..                       ...         ...        ...\n",
       "119     Minneapolis,NC,28652  -81.987349  36.099368\n",
       "120         Garfield,NJ,7026  -74.105561  40.866697\n",
       "121  Corpus Christi,TX,78401  -97.401413  27.747725\n",
       "122          Gretna,VA,24557  -79.360234  36.952841\n",
       "123   Staten Island,NY,10301  -74.149605  40.583456\n",
       "\n",
       "[124 rows x 3 columns]"
      ]
     },
     "execution_count": 66,
     "metadata": {},
     "output_type": "execute_result"
    }
   ],
   "source": [
    "city_api"
   ]
  },
  {
   "cell_type": "code",
   "execution_count": 67,
   "metadata": {},
   "outputs": [
    {
     "data": {
      "text/html": [
       "<div>\n",
       "<style scoped>\n",
       "    .dataframe tbody tr th:only-of-type {\n",
       "        vertical-align: middle;\n",
       "    }\n",
       "\n",
       "    .dataframe tbody tr th {\n",
       "        vertical-align: top;\n",
       "    }\n",
       "\n",
       "    .dataframe thead th {\n",
       "        text-align: right;\n",
       "    }\n",
       "</style>\n",
       "<table border=\"1\" class=\"dataframe\">\n",
       "  <thead>\n",
       "    <tr style=\"text-align: right;\">\n",
       "      <th></th>\n",
       "      <th>city_long</th>\n",
       "      <th>city_lat</th>\n",
       "    </tr>\n",
       "  </thead>\n",
       "  <tbody>\n",
       "    <tr>\n",
       "      <th>count</th>\n",
       "      <td>124.000000</td>\n",
       "      <td>124.000000</td>\n",
       "    </tr>\n",
       "    <tr>\n",
       "      <th>mean</th>\n",
       "      <td>-79.960935</td>\n",
       "      <td>39.103864</td>\n",
       "    </tr>\n",
       "    <tr>\n",
       "      <th>std</th>\n",
       "      <td>19.861157</td>\n",
       "      <td>8.194201</td>\n",
       "    </tr>\n",
       "    <tr>\n",
       "      <th>min</th>\n",
       "      <td>-157.855676</td>\n",
       "      <td>-24.265476</td>\n",
       "    </tr>\n",
       "    <tr>\n",
       "      <th>25%</th>\n",
       "      <td>-86.205429</td>\n",
       "      <td>37.925830</td>\n",
       "    </tr>\n",
       "    <tr>\n",
       "      <th>50%</th>\n",
       "      <td>-76.568968</td>\n",
       "      <td>40.999766</td>\n",
       "    </tr>\n",
       "    <tr>\n",
       "      <th>75%</th>\n",
       "      <td>-72.329391</td>\n",
       "      <td>42.559400</td>\n",
       "    </tr>\n",
       "    <tr>\n",
       "      <th>max</th>\n",
       "      <td>12.471698</td>\n",
       "      <td>49.263900</td>\n",
       "    </tr>\n",
       "  </tbody>\n",
       "</table>\n",
       "</div>"
      ],
      "text/plain": [
       "        city_long    city_lat\n",
       "count  124.000000  124.000000\n",
       "mean   -79.960935   39.103864\n",
       "std     19.861157    8.194201\n",
       "min   -157.855676  -24.265476\n",
       "25%    -86.205429   37.925830\n",
       "50%    -76.568968   40.999766\n",
       "75%    -72.329391   42.559400\n",
       "max     12.471698   49.263900"
      ]
     },
     "execution_count": 67,
     "metadata": {},
     "output_type": "execute_result"
    }
   ],
   "source": [
    "city_api.describe()"
   ]
  },
  {
   "cell_type": "code",
   "execution_count": 71,
   "metadata": {},
   "outputs": [
    {
     "data": {
      "text/html": [
       "<div>\n",
       "<style scoped>\n",
       "    .dataframe tbody tr th:only-of-type {\n",
       "        vertical-align: middle;\n",
       "    }\n",
       "\n",
       "    .dataframe tbody tr th {\n",
       "        vertical-align: top;\n",
       "    }\n",
       "\n",
       "    .dataframe thead th {\n",
       "        text-align: right;\n",
       "    }\n",
       "</style>\n",
       "<table border=\"1\" class=\"dataframe\">\n",
       "  <thead>\n",
       "    <tr style=\"text-align: right;\">\n",
       "      <th></th>\n",
       "      <th>string</th>\n",
       "      <th>city_long</th>\n",
       "      <th>city_lat</th>\n",
       "    </tr>\n",
       "  </thead>\n",
       "  <tbody>\n",
       "    <tr>\n",
       "      <th>58</th>\n",
       "      <td>Colorado Springs,CO,80509</td>\n",
       "      <td>0.0</td>\n",
       "      <td>0.0</td>\n",
       "    </tr>\n",
       "  </tbody>\n",
       "</table>\n",
       "</div>"
      ],
      "text/plain": [
       "                       string  city_long  city_lat\n",
       "58  Colorado Springs,CO,80509        0.0       0.0"
      ]
     },
     "execution_count": 71,
     "metadata": {},
     "output_type": "execute_result"
    }
   ],
   "source": [
    "city_api.query('city_long == 0')"
   ]
  },
  {
   "cell_type": "code",
   "execution_count": 72,
   "metadata": {},
   "outputs": [],
   "source": [
    "nom.geocode('Colorado Springs,CO,80509')"
   ]
  },
  {
   "cell_type": "code",
   "execution_count": 74,
   "metadata": {},
   "outputs": [],
   "source": [
    "data = pd.merge(data, city_api, how='left', left_on='api_string', right_on='string')"
   ]
  },
  {
   "cell_type": "code",
   "execution_count": 75,
   "metadata": {},
   "outputs": [],
   "source": [
    "data = data.sort_values(\"date\").reset_index()"
   ]
  },
  {
   "cell_type": "code",
   "execution_count": 76,
   "metadata": {},
   "outputs": [
    {
     "data": {
      "text/html": [
       "<div>\n",
       "<style scoped>\n",
       "    .dataframe tbody tr th:only-of-type {\n",
       "        vertical-align: middle;\n",
       "    }\n",
       "\n",
       "    .dataframe tbody tr th {\n",
       "        vertical-align: top;\n",
       "    }\n",
       "\n",
       "    .dataframe thead th {\n",
       "        text-align: right;\n",
       "    }\n",
       "</style>\n",
       "<table border=\"1\" class=\"dataframe\">\n",
       "  <thead>\n",
       "    <tr style=\"text-align: right;\">\n",
       "      <th></th>\n",
       "      <th>index</th>\n",
       "      <th>credit_card</th>\n",
       "      <th>date</th>\n",
       "      <th>transaction_dollar_amount</th>\n",
       "      <th>Long</th>\n",
       "      <th>...</th>\n",
       "      <th>date_alerts</th>\n",
       "      <th>api_string</th>\n",
       "      <th>string</th>\n",
       "      <th>city_long</th>\n",
       "      <th>city_lat</th>\n",
       "    </tr>\n",
       "  </thead>\n",
       "  <tbody>\n",
       "    <tr>\n",
       "      <th>0</th>\n",
       "      <td>277391</td>\n",
       "      <td>9484591448272784</td>\n",
       "      <td>2015-07-31 09:39:48</td>\n",
       "      <td>17.99</td>\n",
       "      <td>-90.045639</td>\n",
       "      <td>...</td>\n",
       "      <td>2015-08-16</td>\n",
       "      <td>New Orleans,LA,70112</td>\n",
       "      <td>New Orleans,LA,70112</td>\n",
       "      <td>-90.070116</td>\n",
       "      <td>29.949932</td>\n",
       "    </tr>\n",
       "    <tr>\n",
       "      <th>1</th>\n",
       "      <td>201068</td>\n",
       "      <td>7053196367895112</td>\n",
       "      <td>2015-07-31 11:03:48</td>\n",
       "      <td>12.09</td>\n",
       "      <td>-74.027561</td>\n",
       "      <td>...</td>\n",
       "      <td>2015-08-16</td>\n",
       "      <td>New York,NY,10001</td>\n",
       "      <td>New York,NY,10001</td>\n",
       "      <td>-73.356691</td>\n",
       "      <td>40.741236</td>\n",
       "    </tr>\n",
       "    <tr>\n",
       "      <th>2</th>\n",
       "      <td>278181</td>\n",
       "      <td>9528285469413252</td>\n",
       "      <td>2015-07-31 11:10:14</td>\n",
       "      <td>78.21</td>\n",
       "      <td>-72.139485</td>\n",
       "      <td>...</td>\n",
       "      <td>2015-08-16</td>\n",
       "      <td>Washington,NH,3280</td>\n",
       "      <td>Washington,NH,3280</td>\n",
       "      <td>-72.097092</td>\n",
       "      <td>43.176140</td>\n",
       "    </tr>\n",
       "    <tr>\n",
       "      <th>3</th>\n",
       "      <td>29066</td>\n",
       "      <td>1845720274833905</td>\n",
       "      <td>2015-07-31 11:28:55</td>\n",
       "      <td>74.41</td>\n",
       "      <td>-89.002148</td>\n",
       "      <td>...</td>\n",
       "      <td>2015-08-16</td>\n",
       "      <td>El Paso,IL,61738</td>\n",
       "      <td>El Paso,IL,61738</td>\n",
       "      <td>-89.016463</td>\n",
       "      <td>40.739202</td>\n",
       "    </tr>\n",
       "    <tr>\n",
       "      <th>4</th>\n",
       "      <td>230996</td>\n",
       "      <td>7850942767136368</td>\n",
       "      <td>2015-07-31 11:38:51</td>\n",
       "      <td>54.89</td>\n",
       "      <td>-72.025675</td>\n",
       "      <td>...</td>\n",
       "      <td>2015-08-16</td>\n",
       "      <td>Washington,NH,3280</td>\n",
       "      <td>Washington,NH,3280</td>\n",
       "      <td>-72.097092</td>\n",
       "      <td>43.176140</td>\n",
       "    </tr>\n",
       "  </tbody>\n",
       "</table>\n",
       "<p>5 rows × 17 columns</p>\n",
       "</div>"
      ],
      "text/plain": [
       "    index       credit_card                date  transaction_dollar_amount       Long  ...  date_alerts            api_string                string  city_long   city_lat\n",
       "0  277391  9484591448272784 2015-07-31 09:39:48                      17.99 -90.045639  ...   2015-08-16  New Orleans,LA,70112  New Orleans,LA,70112 -90.070116  29.949932\n",
       "1  201068  7053196367895112 2015-07-31 11:03:48                      12.09 -74.027561  ...   2015-08-16     New York,NY,10001     New York,NY,10001 -73.356691  40.741236\n",
       "2  278181  9528285469413252 2015-07-31 11:10:14                      78.21 -72.139485  ...   2015-08-16    Washington,NH,3280    Washington,NH,3280 -72.097092  43.176140\n",
       "3   29066  1845720274833905 2015-07-31 11:28:55                      74.41 -89.002148  ...   2015-08-16      El Paso,IL,61738      El Paso,IL,61738 -89.016463  40.739202\n",
       "4  230996  7850942767136368 2015-07-31 11:38:51                      54.89 -72.025675  ...   2015-08-16    Washington,NH,3280    Washington,NH,3280 -72.097092  43.176140\n",
       "\n",
       "[5 rows x 17 columns]"
      ]
     },
     "execution_count": 76,
     "metadata": {},
     "output_type": "execute_result"
    }
   ],
   "source": [
    "data.head()"
   ]
  },
  {
   "cell_type": "code",
   "execution_count": 81,
   "metadata": {},
   "outputs": [
    {
     "data": {
      "text/html": [
       "<div>\n",
       "<style scoped>\n",
       "    .dataframe tbody tr th:only-of-type {\n",
       "        vertical-align: middle;\n",
       "    }\n",
       "\n",
       "    .dataframe tbody tr th {\n",
       "        vertical-align: top;\n",
       "    }\n",
       "\n",
       "    .dataframe thead th {\n",
       "        text-align: right;\n",
       "    }\n",
       "</style>\n",
       "<table border=\"1\" class=\"dataframe\">\n",
       "  <thead>\n",
       "    <tr style=\"text-align: right;\">\n",
       "      <th></th>\n",
       "      <th>index</th>\n",
       "      <th>credit_card</th>\n",
       "      <th>date</th>\n",
       "      <th>transaction_dollar_amount</th>\n",
       "      <th>Long</th>\n",
       "      <th>...</th>\n",
       "      <th>city_lat</th>\n",
       "      <th>distance_from_home</th>\n",
       "      <th>time_delta_consecutive_transactions</th>\n",
       "      <th>Lat_shifted</th>\n",
       "      <th>Long_shifted</th>\n",
       "    </tr>\n",
       "  </thead>\n",
       "  <tbody>\n",
       "    <tr>\n",
       "      <th>294583</th>\n",
       "      <td>60278</td>\n",
       "      <td>2954456265698260</td>\n",
       "      <td>2015-10-30 05:58:15</td>\n",
       "      <td>20.18</td>\n",
       "      <td>-86.069097</td>\n",
       "      <td>...</td>\n",
       "      <td>39.768333</td>\n",
       "      <td>7.880362</td>\n",
       "      <td>320.716667</td>\n",
       "      <td>39.758629</td>\n",
       "      <td>-86.178039</td>\n",
       "    </tr>\n",
       "    <tr>\n",
       "      <th>294584</th>\n",
       "      <td>137304</td>\n",
       "      <td>5142934429645149</td>\n",
       "      <td>2015-10-30 05:59:35</td>\n",
       "      <td>9.03</td>\n",
       "      <td>-72.145141</td>\n",
       "      <td>...</td>\n",
       "      <td>43.176140</td>\n",
       "      <td>3.906792</td>\n",
       "      <td>369.566667</td>\n",
       "      <td>43.227201</td>\n",
       "      <td>-72.050376</td>\n",
       "    </tr>\n",
       "    <tr>\n",
       "      <th>294585</th>\n",
       "      <td>185579</td>\n",
       "      <td>6483234875464386</td>\n",
       "      <td>2015-10-30 06:03:21</td>\n",
       "      <td>197.75</td>\n",
       "      <td>-72.108611</td>\n",
       "      <td>...</td>\n",
       "      <td>43.176140</td>\n",
       "      <td>0.976322</td>\n",
       "      <td>499.333333</td>\n",
       "      <td>43.119561</td>\n",
       "      <td>-72.099814</td>\n",
       "    </tr>\n",
       "    <tr>\n",
       "      <th>294586</th>\n",
       "      <td>249997</td>\n",
       "      <td>8413908390816172</td>\n",
       "      <td>2015-10-30 06:26:59</td>\n",
       "      <td>233.61</td>\n",
       "      <td>-73.959025</td>\n",
       "      <td>...</td>\n",
       "      <td>40.741236</td>\n",
       "      <td>51.067552</td>\n",
       "      <td>228.250000</td>\n",
       "      <td>40.699450</td>\n",
       "      <td>-74.054524</td>\n",
       "    </tr>\n",
       "    <tr>\n",
       "      <th>294587</th>\n",
       "      <td>272297</td>\n",
       "      <td>9311226148341480</td>\n",
       "      <td>2015-10-30 10:54:58</td>\n",
       "      <td>10.88</td>\n",
       "      <td>-72.667128</td>\n",
       "      <td>...</td>\n",
       "      <td>42.101483</td>\n",
       "      <td>6.471902</td>\n",
       "      <td>643.283333</td>\n",
       "      <td>42.178607</td>\n",
       "      <td>-72.520959</td>\n",
       "    </tr>\n",
       "  </tbody>\n",
       "</table>\n",
       "<p>5 rows × 21 columns</p>\n",
       "</div>"
      ],
      "text/plain": [
       "         index       credit_card                date  transaction_dollar_amount       Long  ...   city_lat distance_from_home time_delta_consecutive_transactions  Lat_shifted  Long_shifted\n",
       "294583   60278  2954456265698260 2015-10-30 05:58:15                      20.18 -86.069097  ...  39.768333           7.880362                          320.716667    39.758629    -86.178039\n",
       "294584  137304  5142934429645149 2015-10-30 05:59:35                       9.03 -72.145141  ...  43.176140           3.906792                          369.566667    43.227201    -72.050376\n",
       "294585  185579  6483234875464386 2015-10-30 06:03:21                     197.75 -72.108611  ...  43.176140           0.976322                          499.333333    43.119561    -72.099814\n",
       "294586  249997  8413908390816172 2015-10-30 06:26:59                     233.61 -73.959025  ...  40.741236          51.067552                          228.250000    40.699450    -74.054524\n",
       "294587  272297  9311226148341480 2015-10-30 10:54:58                      10.88 -72.667128  ...  42.101483           6.471902                          643.283333    42.178607    -72.520959\n",
       "\n",
       "[5 rows x 21 columns]"
      ]
     },
     "execution_count": 81,
     "metadata": {},
     "output_type": "execute_result"
    }
   ],
   "source": [
    "data.tail()"
   ]
  },
  {
   "cell_type": "code",
   "execution_count": 79,
   "metadata": {},
   "outputs": [],
   "source": [
    "#now let's create those new variables.\n",
    "#firstly, distance between transaction location and home location\n",
    "data['distance_from_home'] = data.apply(lambda x: geopy.distance.distance(x[[\"Lat\", \"Long\"]], x[[\"city_lat\", \"city_long\"]]).km,axis=1)\n"
   ]
  },
  {
   "cell_type": "code",
   "execution_count": 80,
   "metadata": {},
   "outputs": [],
   "source": [
    "#then time delta between consecutive transactions in minutes\n",
    "data['time_delta_consecutive_transactions'] = data.groupby('credit_card')['date'].diff()\n",
    "data['time_delta_consecutive_transactions'] = data['time_delta_consecutive_transactions'].apply(lambda x: x.total_seconds()/60)"
   ]
  },
  {
   "cell_type": "code",
   "execution_count": 82,
   "metadata": {},
   "outputs": [],
   "source": [
    "#eographical distance between consecutive transactions        \n",
    "data[[\"Lat_shifted\", \"Long_shifted\"]] = data.groupby('credit_card')[[\"Lat\", \"Long\"]].shift(1)\n",
    "data['distance_consecutive_transactions'] = data.apply(lambda x: x[\"Lat_shifted\"] if pd.isnull(x[\"Lat_shifted\"]) else geopy.distance.distance(x[[\"Lat\", \"Long\"]], x[[\"Lat_shifted\", \"Long_shifted\"]]).km,axis=1)\n"
   ]
  },
  {
   "cell_type": "code",
   "execution_count": 83,
   "metadata": {},
   "outputs": [],
   "source": [
    "#only keep columns we care about\n",
    "data_cluster = data[[\"credit_card\", \"distance_from_home\", \"time_delta_consecutive_transactions\", \"distance_consecutive_transactions\", \"transaction_dollar_amount\"]]"
   ]
  },
  {
   "cell_type": "code",
   "execution_count": 84,
   "metadata": {},
   "outputs": [
    {
     "data": {
      "text/html": [
       "<div>\n",
       "<style scoped>\n",
       "    .dataframe tbody tr th:only-of-type {\n",
       "        vertical-align: middle;\n",
       "    }\n",
       "\n",
       "    .dataframe tbody tr th {\n",
       "        vertical-align: top;\n",
       "    }\n",
       "\n",
       "    .dataframe thead th {\n",
       "        text-align: right;\n",
       "    }\n",
       "</style>\n",
       "<table border=\"1\" class=\"dataframe\">\n",
       "  <thead>\n",
       "    <tr style=\"text-align: right;\">\n",
       "      <th></th>\n",
       "      <th>credit_card</th>\n",
       "      <th>distance_from_home</th>\n",
       "      <th>time_delta_consecutive_transactions</th>\n",
       "      <th>distance_consecutive_transactions</th>\n",
       "      <th>transaction_dollar_amount</th>\n",
       "    </tr>\n",
       "  </thead>\n",
       "  <tbody>\n",
       "    <tr>\n",
       "      <th>0</th>\n",
       "      <td>9484591448272784</td>\n",
       "      <td>7.151957</td>\n",
       "      <td>NaN</td>\n",
       "      <td>NaN</td>\n",
       "      <td>17.99</td>\n",
       "    </tr>\n",
       "    <tr>\n",
       "      <th>1</th>\n",
       "      <td>7053196367895112</td>\n",
       "      <td>56.974828</td>\n",
       "      <td>NaN</td>\n",
       "      <td>NaN</td>\n",
       "      <td>12.09</td>\n",
       "    </tr>\n",
       "    <tr>\n",
       "      <th>2</th>\n",
       "      <td>9528285469413252</td>\n",
       "      <td>8.308496</td>\n",
       "      <td>NaN</td>\n",
       "      <td>NaN</td>\n",
       "      <td>78.21</td>\n",
       "    </tr>\n",
       "    <tr>\n",
       "      <th>3</th>\n",
       "      <td>1845720274833905</td>\n",
       "      <td>7.332010</td>\n",
       "      <td>NaN</td>\n",
       "      <td>NaN</td>\n",
       "      <td>74.41</td>\n",
       "    </tr>\n",
       "    <tr>\n",
       "      <th>4</th>\n",
       "      <td>7850942767136368</td>\n",
       "      <td>6.963227</td>\n",
       "      <td>NaN</td>\n",
       "      <td>NaN</td>\n",
       "      <td>54.89</td>\n",
       "    </tr>\n",
       "  </tbody>\n",
       "</table>\n",
       "</div>"
      ],
      "text/plain": [
       "        credit_card  distance_from_home  time_delta_consecutive_transactions  distance_consecutive_transactions  transaction_dollar_amount\n",
       "0  9484591448272784            7.151957                                  NaN                                NaN                      17.99\n",
       "1  7053196367895112           56.974828                                  NaN                                NaN                      12.09\n",
       "2  9528285469413252            8.308496                                  NaN                                NaN                      78.21\n",
       "3  1845720274833905            7.332010                                  NaN                                NaN                      74.41\n",
       "4  7850942767136368            6.963227                                  NaN                                NaN                      54.89"
      ]
     },
     "execution_count": 84,
     "metadata": {},
     "output_type": "execute_result"
    }
   ],
   "source": [
    "data_cluster.head()"
   ]
  },
  {
   "cell_type": "code",
   "execution_count": 86,
   "metadata": {},
   "outputs": [
    {
     "data": {
      "text/html": [
       "<div>\n",
       "<style scoped>\n",
       "    .dataframe tbody tr th:only-of-type {\n",
       "        vertical-align: middle;\n",
       "    }\n",
       "\n",
       "    .dataframe tbody tr th {\n",
       "        vertical-align: top;\n",
       "    }\n",
       "\n",
       "    .dataframe thead th {\n",
       "        text-align: right;\n",
       "    }\n",
       "</style>\n",
       "<table border=\"1\" class=\"dataframe\">\n",
       "  <thead>\n",
       "    <tr style=\"text-align: right;\">\n",
       "      <th></th>\n",
       "      <th>credit_card</th>\n",
       "      <th>distance_from_home</th>\n",
       "      <th>time_delta_consecutive_transactions</th>\n",
       "      <th>distance_consecutive_transactions</th>\n",
       "      <th>transaction_dollar_amount</th>\n",
       "    </tr>\n",
       "  </thead>\n",
       "  <tbody>\n",
       "    <tr>\n",
       "      <th>294583</th>\n",
       "      <td>2954456265698260</td>\n",
       "      <td>7.880362</td>\n",
       "      <td>320.716667</td>\n",
       "      <td>9.798998</td>\n",
       "      <td>20.18</td>\n",
       "    </tr>\n",
       "    <tr>\n",
       "      <th>294584</th>\n",
       "      <td>5142934429645149</td>\n",
       "      <td>3.906792</td>\n",
       "      <td>369.566667</td>\n",
       "      <td>9.566272</td>\n",
       "      <td>9.03</td>\n",
       "    </tr>\n",
       "    <tr>\n",
       "      <th>294585</th>\n",
       "      <td>6483234875464386</td>\n",
       "      <td>0.976322</td>\n",
       "      <td>499.333333</td>\n",
       "      <td>6.600406</td>\n",
       "      <td>197.75</td>\n",
       "    </tr>\n",
       "    <tr>\n",
       "      <th>294586</th>\n",
       "      <td>8413908390816172</td>\n",
       "      <td>51.067552</td>\n",
       "      <td>228.250000</td>\n",
       "      <td>8.080012</td>\n",
       "      <td>233.61</td>\n",
       "    </tr>\n",
       "    <tr>\n",
       "      <th>294587</th>\n",
       "      <td>9311226148341480</td>\n",
       "      <td>6.471902</td>\n",
       "      <td>643.283333</td>\n",
       "      <td>14.259806</td>\n",
       "      <td>10.88</td>\n",
       "    </tr>\n",
       "  </tbody>\n",
       "</table>\n",
       "</div>"
      ],
      "text/plain": [
       "             credit_card  distance_from_home  time_delta_consecutive_transactions  distance_consecutive_transactions  transaction_dollar_amount\n",
       "294583  2954456265698260            7.880362                           320.716667                           9.798998                      20.18\n",
       "294584  5142934429645149            3.906792                           369.566667                           9.566272                       9.03\n",
       "294585  6483234875464386            0.976322                           499.333333                           6.600406                     197.75\n",
       "294586  8413908390816172           51.067552                           228.250000                           8.080012                     233.61\n",
       "294587  9311226148341480            6.471902                           643.283333                          14.259806                      10.88"
      ]
     },
     "execution_count": 86,
     "metadata": {},
     "output_type": "execute_result"
    }
   ],
   "source": [
    "data_cluster.tail()"
   ]
  },
  {
   "cell_type": "code",
   "execution_count": 85,
   "metadata": {},
   "outputs": [
    {
     "name": "stdout",
     "output_type": "stream",
     "text": [
      "<class 'pandas.core.frame.DataFrame'>\n",
      "RangeIndex: 294588 entries, 0 to 294587\n",
      "Data columns (total 5 columns):\n",
      " #   Column                               Non-Null Count   Dtype  \n",
      "---  ------                               --------------   -----  \n",
      " 0   credit_card                          294588 non-null  int64  \n",
      " 1   distance_from_home                   294588 non-null  float64\n",
      " 2   time_delta_consecutive_transactions  293604 non-null  float64\n",
      " 3   distance_consecutive_transactions    293604 non-null  float64\n",
      " 4   transaction_dollar_amount            294588 non-null  float64\n",
      "dtypes: float64(4), int64(1)\n",
      "memory usage: 11.2 MB\n"
     ]
    }
   ],
   "source": [
    "data_cluster.info()"
   ]
  },
  {
   "cell_type": "code",
   "execution_count": 87,
   "metadata": {},
   "outputs": [],
   "source": [
    "#normalize everthing by credit card\n",
    "data_cluster = data_cluster.groupby('credit_card').transform(lambda x: (x - x.mean()) / x.std())\n",
    "  \n",
    "#remove NAs\n",
    "data_cluster = data_cluster.dropna()\n"
   ]
  },
  {
   "cell_type": "code",
   "execution_count": 88,
   "metadata": {},
   "outputs": [
    {
     "data": {
      "text/html": [
       "<div>\n",
       "<style scoped>\n",
       "    .dataframe tbody tr th:only-of-type {\n",
       "        vertical-align: middle;\n",
       "    }\n",
       "\n",
       "    .dataframe tbody tr th {\n",
       "        vertical-align: top;\n",
       "    }\n",
       "\n",
       "    .dataframe thead th {\n",
       "        text-align: right;\n",
       "    }\n",
       "</style>\n",
       "<table border=\"1\" class=\"dataframe\">\n",
       "  <thead>\n",
       "    <tr style=\"text-align: right;\">\n",
       "      <th></th>\n",
       "      <th>distance_from_home</th>\n",
       "      <th>time_delta_consecutive_transactions</th>\n",
       "      <th>distance_consecutive_transactions</th>\n",
       "      <th>transaction_dollar_amount</th>\n",
       "    </tr>\n",
       "  </thead>\n",
       "  <tbody>\n",
       "    <tr>\n",
       "      <th>294583</th>\n",
       "      <td>-0.090059</td>\n",
       "      <td>0.081931</td>\n",
       "      <td>-0.127975</td>\n",
       "      <td>-0.537845</td>\n",
       "    </tr>\n",
       "    <tr>\n",
       "      <th>294584</th>\n",
       "      <td>-0.103328</td>\n",
       "      <td>0.405968</td>\n",
       "      <td>-0.142558</td>\n",
       "      <td>-0.685903</td>\n",
       "    </tr>\n",
       "    <tr>\n",
       "      <th>294585</th>\n",
       "      <td>-0.148104</td>\n",
       "      <td>0.268788</td>\n",
       "      <td>-0.207979</td>\n",
       "      <td>0.627762</td>\n",
       "    </tr>\n",
       "    <tr>\n",
       "      <th>294586</th>\n",
       "      <td>-0.129180</td>\n",
       "      <td>-0.035451</td>\n",
       "      <td>-0.180469</td>\n",
       "      <td>0.852091</td>\n",
       "    </tr>\n",
       "    <tr>\n",
       "      <th>294587</th>\n",
       "      <td>-0.080043</td>\n",
       "      <td>0.851896</td>\n",
       "      <td>-0.101303</td>\n",
       "      <td>-0.482826</td>\n",
       "    </tr>\n",
       "  </tbody>\n",
       "</table>\n",
       "</div>"
      ],
      "text/plain": [
       "        distance_from_home  time_delta_consecutive_transactions  distance_consecutive_transactions  transaction_dollar_amount\n",
       "294583           -0.090059                             0.081931                          -0.127975                  -0.537845\n",
       "294584           -0.103328                             0.405968                          -0.142558                  -0.685903\n",
       "294585           -0.148104                             0.268788                          -0.207979                   0.627762\n",
       "294586           -0.129180                            -0.035451                          -0.180469                   0.852091\n",
       "294587           -0.080043                             0.851896                          -0.101303                  -0.482826"
      ]
     },
     "execution_count": 88,
     "metadata": {},
     "output_type": "execute_result"
    }
   ],
   "source": [
    "data_cluster.tail()"
   ]
  },
  {
   "cell_type": "code",
   "execution_count": 90,
   "metadata": {},
   "outputs": [
    {
     "data": {
      "text/html": [
       "<div>\n",
       "<style scoped>\n",
       "    .dataframe tbody tr th:only-of-type {\n",
       "        vertical-align: middle;\n",
       "    }\n",
       "\n",
       "    .dataframe tbody tr th {\n",
       "        vertical-align: top;\n",
       "    }\n",
       "\n",
       "    .dataframe thead th {\n",
       "        text-align: right;\n",
       "    }\n",
       "</style>\n",
       "<table border=\"1\" class=\"dataframe\">\n",
       "  <thead>\n",
       "    <tr style=\"text-align: right;\">\n",
       "      <th></th>\n",
       "      <th>distance_from_home</th>\n",
       "      <th>time_delta_consecutive_transactions</th>\n",
       "      <th>distance_consecutive_transactions</th>\n",
       "      <th>transaction_dollar_amount</th>\n",
       "    </tr>\n",
       "  </thead>\n",
       "  <tbody>\n",
       "    <tr>\n",
       "      <th>count</th>\n",
       "      <td>293601.000000</td>\n",
       "      <td>2.936010e+05</td>\n",
       "      <td>2.936010e+05</td>\n",
       "      <td>293601.000000</td>\n",
       "    </tr>\n",
       "    <tr>\n",
       "      <th>mean</th>\n",
       "      <td>-0.000098</td>\n",
       "      <td>5.808231e-18</td>\n",
       "      <td>1.258450e-18</td>\n",
       "      <td>-0.000008</td>\n",
       "    </tr>\n",
       "    <tr>\n",
       "      <th>std</th>\n",
       "      <td>0.998172</td>\n",
       "      <td>9.983348e-01</td>\n",
       "      <td>9.983348e-01</td>\n",
       "      <td>0.998161</td>\n",
       "    </tr>\n",
       "    <tr>\n",
       "      <th>min</th>\n",
       "      <td>-14.190052</td>\n",
       "      <td>-1.554428e+00</td>\n",
       "      <td>-2.396870e+00</td>\n",
       "      <td>-2.412378</td>\n",
       "    </tr>\n",
       "    <tr>\n",
       "      <th>25%</th>\n",
       "      <td>-0.130419</td>\n",
       "      <td>-5.976848e-01</td>\n",
       "      <td>-1.855413e-01</td>\n",
       "      <td>-0.323753</td>\n",
       "    </tr>\n",
       "    <tr>\n",
       "      <th>50%</th>\n",
       "      <td>-0.114645</td>\n",
       "      <td>-4.556891e-01</td>\n",
       "      <td>-1.626064e-01</td>\n",
       "      <td>-0.143472</td>\n",
       "    </tr>\n",
       "    <tr>\n",
       "      <th>75%</th>\n",
       "      <td>-0.095981</td>\n",
       "      <td>9.136592e-02</td>\n",
       "      <td>-1.357169e-01</td>\n",
       "      <td>0.062784</td>\n",
       "    </tr>\n",
       "    <tr>\n",
       "      <th>max</th>\n",
       "      <td>21.840047</td>\n",
       "      <td>9.278361e+00</td>\n",
       "      <td>1.541512e+01</td>\n",
       "      <td>15.943140</td>\n",
       "    </tr>\n",
       "  </tbody>\n",
       "</table>\n",
       "</div>"
      ],
      "text/plain": [
       "       distance_from_home  time_delta_consecutive_transactions  distance_consecutive_transactions  transaction_dollar_amount\n",
       "count       293601.000000                         2.936010e+05                       2.936010e+05              293601.000000\n",
       "mean            -0.000098                         5.808231e-18                       1.258450e-18                  -0.000008\n",
       "std              0.998172                         9.983348e-01                       9.983348e-01                   0.998161\n",
       "min            -14.190052                        -1.554428e+00                      -2.396870e+00                  -2.412378\n",
       "25%             -0.130419                        -5.976848e-01                      -1.855413e-01                  -0.323753\n",
       "50%             -0.114645                        -4.556891e-01                      -1.626064e-01                  -0.143472\n",
       "75%             -0.095981                         9.136592e-02                      -1.357169e-01                   0.062784\n",
       "max             21.840047                         9.278361e+00                       1.541512e+01                  15.943140"
      ]
     },
     "execution_count": 90,
     "metadata": {},
     "output_type": "execute_result"
    }
   ],
   "source": [
    "data_cluster.describe()"
   ]
  },
  {
   "cell_type": "markdown",
   "metadata": {},
   "source": [
    "# Model Building"
   ]
  },
  {
   "cell_type": "markdown",
   "metadata": {},
   "source": [
    "Let’s now cluster. The most common techniques are k-means, hierarchical clustering, or isolation forest. As usual, a good approach is starting from the simplest technique and using more advanced ones only if that one doesn’t work.\n",
    "\n",
    "Here the dataset is pretty simple, we have few variables, all are numerical, and on the same scale. So k-means looks like an appropriate choice. In more complicated cases, especially when we have tons of variables/categorical variables, isolation forest is typically the way to go."
   ]
  },
  {
   "cell_type": "code",
   "execution_count": 91,
   "metadata": {},
   "outputs": [
    {
     "data": {
      "text/plain": [
       "Text(0, 0.5, 'SSE')"
      ]
     },
     "execution_count": 91,
     "metadata": {},
     "output_type": "execute_result"
    },
    {
     "data": {
      "image/png": "[encoded data removed]",
      "text/plain": [
       "<Figure size 432x288 with 1 Axes>"
      ]
     },
     "metadata": {
      "needs_background": "light"
     },
     "output_type": "display_data"
    }
   ],
   "source": [
    "from sklearn.cluster import KMeans\n",
    "#Clustering. Let's use the elbow method to get a sense of the optimal number of clusters. \n",
    "#i.e. sum of squared distances vs # of clusters\n",
    "sse = []\n",
    "for i in range(1, 10):\n",
    "    sse.append(KMeans(n_clusters=i, init='k-means++', random_state=10).fit(data_cluster).inertia_)\n",
    "  \n",
    "plt.plot(range(1,10), sse)\n",
    "plt.xlabel(\"Number of cluster\")\n",
    "plt.ylabel(\"SSE\")"
   ]
  },
  {
   "cell_type": "markdown",
   "metadata": {},
   "source": [
    "Looks like the optimal number of cluster is somewhere between 5 and 7. Let’s pick 7 and check the cluster characteristics.\n"
   ]
  },
  {
   "cell_type": "code",
   "execution_count": 92,
   "metadata": {},
   "outputs": [],
   "source": [
    "clusters = KMeans(n_clusters=7, init='k-means++', random_state=10).fit(data_cluster)\n",
    "  \n",
    "#get cluster centroids\n",
    "cluster_characteristics = pd.DataFrame(clusters.cluster_centers_, columns = data_cluster.columns)\n",
    "  \n",
    "#add cluster size and label\n",
    "cluster_characteristics['size']=np.bincount(clusters.labels_)"
   ]
  },
  {
   "cell_type": "code",
   "execution_count": 94,
   "metadata": {},
   "outputs": [],
   "source": [
    "cluster_characteristics['label']= range(0, clusters.n_clusters)"
   ]
  },
  {
   "cell_type": "code",
   "execution_count": 95,
   "metadata": {},
   "outputs": [
    {
     "data": {
      "text/html": [
       "<div>\n",
       "<style scoped>\n",
       "    .dataframe tbody tr th:only-of-type {\n",
       "        vertical-align: middle;\n",
       "    }\n",
       "\n",
       "    .dataframe tbody tr th {\n",
       "        vertical-align: top;\n",
       "    }\n",
       "\n",
       "    .dataframe thead th {\n",
       "        text-align: right;\n",
       "    }\n",
       "</style>\n",
       "<table border=\"1\" class=\"dataframe\">\n",
       "  <thead>\n",
       "    <tr style=\"text-align: right;\">\n",
       "      <th></th>\n",
       "      <th>distance_from_home</th>\n",
       "      <th>time_delta_consecutive_transactions</th>\n",
       "      <th>distance_consecutive_transactions</th>\n",
       "      <th>transaction_dollar_amount</th>\n",
       "      <th>size</th>\n",
       "      <th>label</th>\n",
       "    </tr>\n",
       "  </thead>\n",
       "  <tbody>\n",
       "    <tr>\n",
       "      <th>0</th>\n",
       "      <td>-0.109330</td>\n",
       "      <td>-0.478998</td>\n",
       "      <td>-0.156182</td>\n",
       "      <td>-0.125413</td>\n",
       "      <td>216792</td>\n",
       "      <td>0</td>\n",
       "    </tr>\n",
       "    <tr>\n",
       "      <th>1</th>\n",
       "      <td>-0.109613</td>\n",
       "      <td>2.497406</td>\n",
       "      <td>-0.152312</td>\n",
       "      <td>-0.121495</td>\n",
       "      <td>23797</td>\n",
       "      <td>1</td>\n",
       "    </tr>\n",
       "    <tr>\n",
       "      <th>2</th>\n",
       "      <td>10.619211</td>\n",
       "      <td>0.028317</td>\n",
       "      <td>7.489062</td>\n",
       "      <td>0.042237</td>\n",
       "      <td>1534</td>\n",
       "      <td>2</td>\n",
       "    </tr>\n",
       "    <tr>\n",
       "      <th>3</th>\n",
       "      <td>-0.089479</td>\n",
       "      <td>-0.002438</td>\n",
       "      <td>-0.102263</td>\n",
       "      <td>6.627694</td>\n",
       "      <td>5360</td>\n",
       "      <td>3</td>\n",
       "    </tr>\n",
       "    <tr>\n",
       "      <th>4</th>\n",
       "      <td>6.105349</td>\n",
       "      <td>-0.028084</td>\n",
       "      <td>4.271208</td>\n",
       "      <td>-0.076989</td>\n",
       "      <td>2521</td>\n",
       "      <td>4</td>\n",
       "    </tr>\n",
       "    <tr>\n",
       "      <th>5</th>\n",
       "      <td>-0.188376</td>\n",
       "      <td>-0.026344</td>\n",
       "      <td>5.639498</td>\n",
       "      <td>-0.095630</td>\n",
       "      <td>3870</td>\n",
       "      <td>5</td>\n",
       "    </tr>\n",
       "    <tr>\n",
       "      <th>6</th>\n",
       "      <td>-0.105291</td>\n",
       "      <td>1.130892</td>\n",
       "      <td>-0.152100</td>\n",
       "      <td>-0.124519</td>\n",
       "      <td>39727</td>\n",
       "      <td>6</td>\n",
       "    </tr>\n",
       "  </tbody>\n",
       "</table>\n",
       "</div>"
      ],
      "text/plain": [
       "   distance_from_home  time_delta_consecutive_transactions  distance_consecutive_transactions  transaction_dollar_amount    size  label\n",
       "0           -0.109330                            -0.478998                          -0.156182                  -0.125413  216792      0\n",
       "1           -0.109613                             2.497406                          -0.152312                  -0.121495   23797      1\n",
       "2           10.619211                             0.028317                           7.489062                   0.042237    1534      2\n",
       "3           -0.089479                            -0.002438                          -0.102263                   6.627694    5360      3\n",
       "4            6.105349                            -0.028084                           4.271208                  -0.076989    2521      4\n",
       "5           -0.188376                            -0.026344                           5.639498                  -0.095630    3870      5\n",
       "6           -0.105291                             1.130892                          -0.152100                  -0.124519   39727      6"
      ]
     },
     "execution_count": 95,
     "metadata": {},
     "output_type": "execute_result"
    }
   ],
   "source": [
    "cluster_characteristics"
   ]
  },
  {
   "cell_type": "markdown",
   "metadata": {},
   "source": [
    "It looks like some clusters are really extreme on at least one dimension. Let’s only pick the clusters with at least one dimension above 2 in absolute value. Since we scaled the data, this represents two standard deviations.\n"
   ]
  },
  {
   "cell_type": "code",
   "execution_count": 96,
   "metadata": {},
   "outputs": [
    {
     "name": "stdout",
     "output_type": "stream",
     "text": [
      "    label   size                             variable      value\n",
      "8       1  23797  time_delta_consecutive_transactions   2.497406\n",
      "2       2   1534                   distance_from_home  10.619211\n",
      "16      2   1534    distance_consecutive_transactions   7.489062\n",
      "24      3   5360            transaction_dollar_amount   6.627694\n",
      "4       4   2521                   distance_from_home   6.105349\n",
      "18      4   2521    distance_consecutive_transactions   4.271208\n",
      "19      5   3870    distance_consecutive_transactions   5.639498\n"
     ]
    }
   ],
   "source": [
    "#These are going to be our anomaly clusters: at least one absolute value larger than 2.\n",
    "anomaly_cluster = pd.melt(cluster_characteristics,id_vars=['label', 'size'],var_name='variable', value_name='value')\n",
    "anomaly_cluster = anomaly_cluster.query('abs(value)>2').sort_values(\"label\")\n",
    "print(anomaly_cluster)"
   ]
  },
  {
   "cell_type": "markdown",
   "metadata": {},
   "source": [
    "We can see that cluster 3 has transactions with huge values. Cluster 4 is weird because consecutive transactions are very far from each other. Cluster 2 and 5 are weird because they have both transactions that are far from the user home as well as consecutive transactions are also far from each other, with cluster 5 being even more extreme than cluster 2.\n",
    "\n",
    "Finally, cluster 0 has transactions that happen after a long time. This is probably not a reason to flag a transaction as suspicious. So we won’t include it. We would have included it if time_delta_consecutive_transactions had been highly negative, meaning tons of transactions right after each other, which is pretty common when a CC gets stolen.\n"
   ]
  },
  {
   "cell_type": "code",
   "execution_count": 97,
   "metadata": {},
   "outputs": [],
   "source": [
    "#get rid of cluster 0\n",
    "anomaly_cluster = anomaly_cluster.query('variable!=\"time_delta_consecutive_transactions\"')\n"
   ]
  },
  {
   "cell_type": "code",
   "execution_count": 98,
   "metadata": {},
   "outputs": [
    {
     "name": "stdout",
     "output_type": "stream",
     "text": [
      "Overall 4.5 percentage of events belong to anomaly clusters\n"
     ]
    }
   ],
   "source": [
    "#check proportion of anomaly events\n",
    "print(\"Overall\", round(anomaly_cluster['size'].unique().sum()/cluster_characteristics['size'].sum(), 3)*100,\"percentage of events belong to anomaly clusters\")"
   ]
  },
  {
   "cell_type": "markdown",
   "metadata": {},
   "source": [
    "If we had chosen a more aggressive threshold than 2, we would have obviously got less anomalies and the other way round had we chosen a lower value. As usual, this would depend on the cost of false positives vs false negatives."
   ]
  },
  {
   "cell_type": "code",
   "execution_count": 99,
   "metadata": {},
   "outputs": [],
   "source": [
    "#Finally let's flag actual transactions\n",
    "data_cluster['cluster'] = clusters.labels_\n",
    "data_cluster['is_suspicious'] = data_cluster['cluster'].isin(anomaly_cluster['label'])\n"
   ]
  },
  {
   "cell_type": "code",
   "execution_count": 100,
   "metadata": {},
   "outputs": [
    {
     "data": {
      "text/html": [
       "<div>\n",
       "<style scoped>\n",
       "    .dataframe tbody tr th:only-of-type {\n",
       "        vertical-align: middle;\n",
       "    }\n",
       "\n",
       "    .dataframe tbody tr th {\n",
       "        vertical-align: top;\n",
       "    }\n",
       "\n",
       "    .dataframe thead th {\n",
       "        text-align: right;\n",
       "    }\n",
       "</style>\n",
       "<table border=\"1\" class=\"dataframe\">\n",
       "  <thead>\n",
       "    <tr style=\"text-align: right;\">\n",
       "      <th></th>\n",
       "      <th>distance_from_home</th>\n",
       "      <th>time_delta_consecutive_transactions</th>\n",
       "      <th>distance_consecutive_transactions</th>\n",
       "      <th>transaction_dollar_amount</th>\n",
       "      <th>cluster</th>\n",
       "      <th>is_suspicious</th>\n",
       "    </tr>\n",
       "  </thead>\n",
       "  <tbody>\n",
       "    <tr>\n",
       "      <th>38</th>\n",
       "      <td>-0.124064</td>\n",
       "      <td>-0.621641</td>\n",
       "      <td>-0.172901</td>\n",
       "      <td>-1.040795</td>\n",
       "      <td>0</td>\n",
       "      <td>False</td>\n",
       "    </tr>\n",
       "    <tr>\n",
       "      <th>46</th>\n",
       "      <td>-0.143078</td>\n",
       "      <td>-0.290164</td>\n",
       "      <td>-0.207107</td>\n",
       "      <td>0.064680</td>\n",
       "      <td>0</td>\n",
       "      <td>False</td>\n",
       "    </tr>\n",
       "    <tr>\n",
       "      <th>49</th>\n",
       "      <td>-0.106339</td>\n",
       "      <td>-0.450770</td>\n",
       "      <td>-0.153004</td>\n",
       "      <td>-0.035492</td>\n",
       "      <td>0</td>\n",
       "      <td>False</td>\n",
       "    </tr>\n",
       "    <tr>\n",
       "      <th>72</th>\n",
       "      <td>-0.111739</td>\n",
       "      <td>-0.528082</td>\n",
       "      <td>-0.155856</td>\n",
       "      <td>-0.228124</td>\n",
       "      <td>0</td>\n",
       "      <td>False</td>\n",
       "    </tr>\n",
       "    <tr>\n",
       "      <th>76</th>\n",
       "      <td>-0.118263</td>\n",
       "      <td>-0.622981</td>\n",
       "      <td>-0.170064</td>\n",
       "      <td>-0.112810</td>\n",
       "      <td>0</td>\n",
       "      <td>False</td>\n",
       "    </tr>\n",
       "  </tbody>\n",
       "</table>\n",
       "</div>"
      ],
      "text/plain": [
       "    distance_from_home  time_delta_consecutive_transactions  distance_consecutive_transactions  transaction_dollar_amount  cluster  is_suspicious\n",
       "38           -0.124064                            -0.621641                          -0.172901                  -1.040795        0          False\n",
       "46           -0.143078                            -0.290164                          -0.207107                   0.064680        0          False\n",
       "49           -0.106339                            -0.450770                          -0.153004                  -0.035492        0          False\n",
       "72           -0.111739                            -0.528082                          -0.155856                  -0.228124        0          False\n",
       "76           -0.118263                            -0.622981                          -0.170064                  -0.112810        0          False"
      ]
     },
     "execution_count": 100,
     "metadata": {},
     "output_type": "execute_result"
    }
   ],
   "source": [
    "data_cluster.head()"
   ]
  },
  {
   "cell_type": "markdown",
   "metadata": {},
   "source": [
    "# Summary"
   ]
  },
  {
   "cell_type": "markdown",
   "metadata": {},
   "source": [
    "A problem we have with the current model is that, in order for an event to be classified as an anomaly, we need k-means to create a specific cluster. That will typically happen only if we have several events with similar characteristics.\n",
    "\n",
    "A possible way to solve that could be looking into the distance from their cluster centroid for the transactions belonging to non-anomaly clusters. If they are particularly far (meaning they are an outlier within a non-anomaly cluster), we could label them as an anomaly as well.\n",
    "\n",
    "Another problem stems from the fact that we defined anomalies as “far from the typical behaviour of that specific user”. As always when you go on a user level, this will only work as long as you have enough events per user.\n",
    "\n",
    "A common way to solve this is to create a hybrid approach. If, for a given user, we have > X transactions, we look for anomalies based on that user pattern. If we have <= X transactions, we define anomalies as events that are far from the typical behaviour of similar users (or of all users in the extreme case that you have no way to define similar users).\n"
   ]
  },
  {
   "cell_type": "code",
   "execution_count": null,
   "metadata": {},
   "outputs": [],
   "source": []
  }
 ],
 "metadata": {
  "kernelspec": {
   "display_name": "Python 3",
   "language": "python",
   "name": "python3"
  },
  "language_info": {
   "codemirror_mode": {
    "name": "ipython",
    "version": 3
   },
   "file_extension": ".py",
   "mimetype": "text/x-python",
   "name": "python",
   "nbconvert_exporter": "python",
   "pygments_lexer": "ipython3",
   "version": "3.7.3"
  }
 },
 "nbformat": 4,
 "nbformat_minor": 2
}
